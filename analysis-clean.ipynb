{
 "cells": [
  {
   "cell_type": "markdown",
   "metadata": {},
   "source": [
    "### Notebook for analyzing probabilities in our dataset."
   ]
  },
  {
   "cell_type": "code",
   "execution_count": null,
   "metadata": {},
   "outputs": [],
   "source": [
    "# install the follwoing packages in the enviroment:\n",
    "# python3 -m pip install pandas\n",
    "# python3 -m pip install seaborn\n",
    "\n",
    "import pandas as pd\n",
    "import seaborn as sns\n",
    "import matplotlib.pyplot as plt\n",
    "from scipy import stats\n",
    "import pingouin\n",
    "\n",
    "import numpy as np\n",
    "import json\n",
    "\n",
    "import os\n",
    "\n",
    "from read_jsondata import read_jsons\n",
    "\n",
    "import time"
   ]
  },
  {
   "cell_type": "markdown",
   "metadata": {},
   "source": [
    "#### Configure local paths"
   ]
  },
  {
   "cell_type": "code",
   "execution_count": null,
   "metadata": {},
   "outputs": [],
   "source": [
    "root = ! pwd\n",
    "root = root[0]\n",
    "\n",
    "RAW_DIR=root+\"/author_allgenders/\"  \n",
    "\n",
    "if not os.path.exists(RAW_DIR):\n",
    "    print(\"The directory {} does not exist.\\nThere is no raw data for statistical analysis.\".format(RAW_DIR))"
   ]
  },
  {
   "cell_type": "markdown",
   "metadata": {},
   "source": [
    "#### Load publication data into pandas dataframe"
   ]
  },
  {
   "cell_type": "code",
   "execution_count": null,
   "metadata": {},
   "outputs": [],
   "source": [
    "df = read_jsons(RAW_DIR) \n",
    "df"
   ]
  },
  {
   "cell_type": "markdown",
   "metadata": {},
   "source": [
    "#### Create new columns in the dataframe extracting useful information from list of coauthors"
   ]
  },
  {
   "cell_type": "code",
   "execution_count": null,
   "metadata": {},
   "outputs": [],
   "source": [
    "# Number of authors and initialed names:\n",
    "\n",
    "df['Number_authors'] = df['all_genders'].apply(lambda x: len(x)) #take the length of the list all_genders\n",
    "df['Number_init'] = df['all_genders'].apply(lambda x: len([s for s in x if \"init\"==s]))\n",
    "\n",
    "\n",
    "# First author's gender and percentage:\n",
    "\n",
    "df['First_Author_gend'] = df['all_genders'].apply(lambda x: x[0]) #take the first element of the list all_genders\n",
    "df['First_Author_perc'] = df['all_percent'].apply(lambda x: x[0])\n",
    "\n",
    "# Last author's gender and percentage:\n",
    "\n",
    "df['Last_Author_gend'] = df['all_genders'].apply(lambda x: x[-1]) #take the last element of the list all_genders\n",
    "df['Last_Author_perc'] = df['all_percent'].apply(lambda x: x[-1])\n",
    "\n",
    "df"
   ]
  },
  {
   "cell_type": "markdown",
   "metadata": {},
   "source": [
    "#### Dropping init (unidentified initialed names)"
   ]
  },
  {
   "cell_type": "code",
   "execution_count": null,
   "metadata": {},
   "outputs": [],
   "source": [
    "df = df[df.Number_init==0].copy()\n",
    "df"
   ]
  },
  {
   "cell_type": "markdown",
   "metadata": {},
   "source": [
    "#### Check number of papers in each journal"
   ]
  },
  {
   "cell_type": "code",
   "execution_count": null,
   "metadata": {},
   "outputs": [],
   "source": [
    "journals = df.journal.unique()\n",
    "\n",
    "for jou in journals:  \n",
    "    \n",
    "     print(jou, df[df.journal==jou].journal.count())\n"
   ]
  },
  {
   "cell_type": "markdown",
   "metadata": {},
   "source": [
    " #### It is easier if the all probabilities are with respect to the same gender (female)"
   ]
  },
  {
   "cell_type": "code",
   "execution_count": null,
   "metadata": {},
   "outputs": [],
   "source": [
    "# prob(female) = 1 - prob(male)\n",
    "\n",
    "# Prob last author female:\n",
    "\n",
    "df['Last_Author_probF'] = df['Last_Author_perc'] #initialize the new column\n",
    "df.loc[df['Last_Author_gend'] == 'male','Last_Author_probF'] = \\\n",
    "    1 - df.loc[df['Last_Author_gend'] == 'male','Last_Author_probF']\n",
    "\n",
    "# Prob first author female:\n",
    "\n",
    "df['First_Author_probF'] = df['First_Author_perc'] #initialize the new column\n",
    "df.loc[df['First_Author_gend'] == 'male','First_Author_probF'] = \\\n",
    "    1 - df.loc[df['First_Author_gend'] == 'male','First_Author_probF']\n",
    "\n",
    "df"
   ]
  },
  {
   "cell_type": "markdown",
   "metadata": {},
   "source": [
    "## Now we can compute some interesting probabilities:\n",
    "\n",
    "### Useful formulas:\n",
    "\n",
    "Suppose $x_i$ refers to the article $i$ and $N$ is the total number of articles. Then, the probability of an article having female author is (the law of total probability):\n",
    "\n",
    "$$p(\\text{female}) = \\sum_{i}^N p(\\text{female}|x_i) p(x_i). $$\n",
    "\n",
    "If we have all the probabilities with respect to the female gender, then the probability of having a male author will be:\n",
    "\n",
    "$$p(\\text{male}) = \\sum_{i}^N (1 - p(\\text{female}|x_i)) p(x_i). $$\n",
    "\n",
    "$p(x_i)$ is the probability of the article $x_i$. All articles have the same probability, therefore $p(x_i) = \\frac{1}{N}$. This means that the formulas above are same as taking the average of  $p(\\text{female}|x_i)$ or $(1 - p(\\text{female}|x_i))$, respectively.\n"
   ]
  },
  {
   "cell_type": "markdown",
   "metadata": {},
   "source": [
    "#### Let's compute some easy probabilities to start"
   ]
  },
  {
   "cell_type": "code",
   "execution_count": null,
   "metadata": {},
   "outputs": [],
   "source": [
    "p_ff = df['First_Author_probF'].sum()/df.shape[0]\n",
    "p_mf = (1 - df['First_Author_probF']).sum()/df.shape[0]\n",
    "p_fl = df['Last_Author_probF'].sum()/df.shape[0]\n",
    "p_ml = (1 - df['Last_Author_probF']).sum()/df.shape[0]\n",
    "\n",
    "\n",
    "print('Probability of having a female first author:', p_ff)\n",
    "print('Probability of having a male first author:', p_mf)\n",
    "\n",
    "print('Probability of having a female last author:', p_fl)\n",
    "print('Probability of having a male last author:', p_ml)"
   ]
  },
  {
   "cell_type": "code",
   "execution_count": null,
   "metadata": {},
   "outputs": [],
   "source": [
    "# same as before in absolute numbers:\n",
    "\n",
    "print('Number of articles having a female first author:', p_ff*df.shape[0])\n",
    "print('Number of articles having a male first author:', p_mf*df.shape[0])\n",
    "print('Ratio between them:', p_mf/p_ff)\n",
    "\n",
    "\n",
    "print('Number of articles having a female last author:', p_fl*df.shape[0])\n",
    "print('Number of articles having a male last author:', p_ml*df.shape[0])\n",
    "print('Ratio between them:', p_ml/p_fl)"
   ]
  },
  {
   "cell_type": "markdown",
   "metadata": {},
   "source": [
    "#### Overall probability of female or male authorship"
   ]
  },
  {
   "cell_type": "code",
   "execution_count": null,
   "metadata": {},
   "outputs": [],
   "source": [
    "def Prob_author(x,y, kind=\"female\"):\n",
    "    sum = 0\n",
    "    for i,elem in enumerate(x):\n",
    "        if elem != kind:\n",
    "            sum += 1 - float(y[i]) \n",
    "        elif elem == kind:\n",
    "            sum += float(y[i])\n",
    "    return sum\n",
    "\n",
    "\n",
    "# 1) determine overall probabilities\n",
    "#==================================\n",
    "# How many authors in total?\n",
    "n_authors_all =df.Number_authors.sum()\n",
    "\n",
    "# Sum of probability of female / total nr. \n",
    "p_female_all = df.apply(lambda x: Prob_author(x.all_genders, x.all_percent, kind=\"female\"), axis=1).sum() / n_authors_all\n",
    "\n",
    "# Sum of probability of male / total nr.\n",
    "p_male_all = df.apply(lambda x: Prob_author(x.all_genders, x.all_percent, kind=\"male\"), axis=1).sum() / n_authors_all\n",
    "\n",
    "#==================================\n",
    "\n",
    "\n",
    "\n",
    "# Now print some info; Check it adds to 1\n",
    "#==================================\n",
    "print(\"All probabilities sum: \", p_female_all + p_male_all)\n",
    "print(\"Overall P of female authorship: \", p_female_all)\n",
    "print(\"Overall P of male authorship: \", p_male_all)"
   ]
  },
  {
   "cell_type": "markdown",
   "metadata": {},
   "source": [
    "#### Overall probability of female or male coauthorship [not first or last]"
   ]
  },
  {
   "cell_type": "code",
   "execution_count": null,
   "metadata": {},
   "outputs": [],
   "source": [
    "def Prob_coauthor(x,y, kind=\"female\"):\n",
    "    sum = 0\n",
    "    for i,elem in enumerate(x):\n",
    "        if i == 0 or i==len(x)-1:\n",
    "            continue\n",
    "        if elem != kind:\n",
    "            sum += 1 - float(y[i]) \n",
    "        elif elem == kind:\n",
    "            sum += float(y[i])\n",
    "    return sum\n",
    "\n",
    "\n",
    "# 1) determine overall probabilities of coauthors (not first and not last)\n",
    "#======================================================================\n",
    "df_co = df[df.Number_authors>2].copy()  # only consider papers with more than two authors\n",
    "\n",
    "n_coauthors =df_co.Number_authors.sum() - 2*df_co.shape[0]  # remove first and last\n",
    "\n",
    "# Sum of probability of female / total nr. \n",
    "p_female_all_co = df_co.apply(lambda x: Prob_coauthor(x.all_genders, x.all_percent, kind=\"female\"), axis=1).sum() / n_coauthors\n",
    "\n",
    "# Sum of probability of male / total nr.\n",
    "p_male_all_co = df_co.apply(lambda x: Prob_coauthor(x.all_genders, x.all_percent, kind=\"male\"), axis=1).sum() / n_coauthors\n",
    "\n",
    "#==================================\n",
    "\n",
    "\n",
    "\n",
    "# Now print some info; Check it adds to 1\n",
    "#==================================\n",
    "print(\"All probabilities sum: \", p_female_all_co + p_male_all_co)\n",
    "print(\"Overall P of female coauthorship: \", p_female_all_co)\n",
    "print(\"Overall P of male coauthorship: \", p_male_all_co)"
   ]
  },
  {
   "cell_type": "markdown",
   "metadata": {},
   "source": [
    "#### Make bar plot with all previous descriptive probabilities"
   ]
  },
  {
   "cell_type": "code",
   "execution_count": null,
   "metadata": {},
   "outputs": [],
   "source": [
    "import matplotlib.patches as mpatches\n",
    "\n",
    "sns.set(style=\"ticks\")\n",
    "sns.set_context(\"notebook\", font_scale=1.3, rc={\"lines.linewidth\": 2.5})\n",
    "\n",
    "\n",
    "\n",
    "\n",
    "data = {'Prob': [p_ff, p_female_all_co, p_fl, p_mf, p_male_all_co, p_ml], \n",
    "        'Gender': ['Female', 'Female', 'Female', 'Male', 'Male', 'Male'],\n",
    "       'Pos': ['First', 'Coauthor','Last','First', 'Coauthor','Last']}\n",
    "\n",
    "\n",
    "df_plot = pd.DataFrame(data=data)\n",
    "\n",
    "ax = bar1 = sns.barplot(y=\"Pos\",  x=\"Prob\", data=df_plot,  estimator=sum,ci = None, color='lightgray', #color='darkorange'\n",
    "                        dodge = False)\n",
    "bar2 = sns.barplot(y=\"Pos\", x=\"Prob\", data=df_plot[df_plot.Gender == 'Female'], ci=None,  color='rebeccapurple',dodge = False)\n",
    "\n",
    "top_bar = mpatches.Patch(color='lightgray', label='Male')\n",
    "bottom_bar = mpatches.Patch(color='rebeccapurple', label='Female')\n",
    "plt.legend(handles=[ bottom_bar, top_bar], bbox_to_anchor=(0.99, 0.64),\n",
    "          ncol=1, fancybox=True, shadow=False)\n",
    "\n",
    "#ax.axvline(0.2347, ls=':', color = 'olive', lw = '2.')\n",
    "\n",
    "ax.set(xlabel='Probability', ylabel='')\n",
    "sns.despine()\n",
    "\n",
    "#plt.savefig('./Figures/descriptive_stats_seaborn.pdf',dpi = 300, bbox_inches=\"tight\")\n",
    "#plt.savefig('./Figures/descriptive_stats_seaborn.png',dpi = 300, bbox_inches=\"tight\")"
   ]
  },
  {
   "cell_type": "markdown",
   "metadata": {},
   "source": [
    "#### Probabilities of having at least one male/female author in an article\n",
    "\n",
    "Having at least one female author refers to any coauthor combination excluding the case in which all authors are male:\n",
    "\n",
    "$$p(\\text{at least 1 female}|x_i) = 1 - p(\\text{all male}|x_i)$$\n",
    "\n",
    "Computing probability for all male coauthors is easier. In the following, we drop the dependency on $x_i$ for clarity.\n",
    "\n",
    "$$p(\\text{all male}) = p(\\text{male}_1)p(\\text{male}_2|\\text{male}_1)p(\\text{male}_3|\\text{male}_1,\\text{male}_2)... = \\prod_i^n p(\\text{male}_i)$$\n",
    "\n",
    "where n is the number of authors and the last step assumes that the gender probability of each authorship is independent of the gender of other coauthors (just to simplify the problem). "
   ]
  },
  {
   "cell_type": "code",
   "execution_count": null,
   "metadata": {},
   "outputs": [],
   "source": [
    "#Define functions to multiply probabilities in each row\n",
    "\n",
    "def Prob_atleast(x,y, gender_atleast, gender_other):\n",
    "    prod = 1\n",
    "    for i,elem in enumerate(x):\n",
    "        if elem == gender_other:\n",
    "            prod *= float(y[i]) \n",
    "        elif elem == gender_atleast:\n",
    "            prod *= 1 - float(y[i])\n",
    "    return 1 - prod\n",
    "\n",
    "\n",
    "def Prob_atleast_bin(x,y, gender_atleast, gender_other):\n",
    "    prod = 1\n",
    "    for i,elem in enumerate(x):\n",
    "        if elem == gender_other:\n",
    "            prod *= round(y[i]) \n",
    "        elif elem == gender_atleast:\n",
    "            prod *= 1 - round(y[i])\n",
    "    return 1 - prod\n",
    "\n",
    "\n",
    "# Create corresponding columns:\n",
    "\n",
    "df['Prob_atleast_Fauthor'] = df.apply(lambda x: Prob_atleast(x.all_genders, x.all_percent, \"female\", \"male\"), axis=1)\n",
    "df['Prob_atleast_Mauthor'] = df.apply(lambda x: Prob_atleast(x.all_genders, x.all_percent, \"male\", \"female\"), axis=1)\n",
    "\n",
    "# add the same columns as if the authors were binary\n",
    "\n",
    "df['Prob_atleast_Fauthor_binary'] = df.apply(lambda x: Prob_atleast_bin(x.all_genders, x.all_percent, \"female\", \"male\"), axis=1)\n",
    "df['Prob_atleast_Mauthor_binary'] = df.apply(lambda x: Prob_atleast_bin(x.all_genders, x.all_percent, \"male\", \"female\"), axis=1)\n",
    "\n",
    "df"
   ]
  },
  {
   "cell_type": "markdown",
   "metadata": {},
   "source": [
    "#### Compute overall probabilities"
   ]
  },
  {
   "cell_type": "code",
   "execution_count": null,
   "metadata": {},
   "outputs": [],
   "source": [
    "p_atleast_f = df['Prob_atleast_Fauthor'].sum()/df.shape[0]\n",
    "p_atleast_m = df['Prob_atleast_Mauthor'].sum()/df.shape[0]\n",
    "\n",
    "print('Probability of having at least one female author in an article', p_atleast_f)\n",
    "\n",
    "print('Probability of having at least one male author in an article', p_atleast_m)\n",
    "\n",
    "print('or the opposite...')\n",
    "\n",
    "print('Probability of having all female authors in an article', 1 - p_atleast_m)\n",
    "\n",
    "print('Probability of having all male authors in an article', 1 - p_atleast_f)"
   ]
  },
  {
   "cell_type": "markdown",
   "metadata": {},
   "source": [
    "#### Plot previous results"
   ]
  },
  {
   "cell_type": "code",
   "execution_count": null,
   "metadata": {},
   "outputs": [],
   "source": [
    "data = {'Prob': [p_atleast_f, 1 - p_atleast_m, p_atleast_m, 1 - p_atleast_f], \n",
    "        'Gender': ['Female', 'Female', 'Male', 'Male'],\n",
    "       'Pos': ['At least one', 'All', 'At least one', 'All']}\n",
    "\n",
    "\n",
    "df_plot = pd.DataFrame(data=data)\n",
    "\n",
    "ax = sns.barplot(x=\"Pos\",  y=\"Prob\", data=df_plot,  hue = 'Gender', ci = None, palette=['rebeccapurple', 'lightgray'])\n",
    "\n",
    "ax.set(xlabel='', ylabel='Probability')\n",
    "plt.gca().legend().set_title('')\n",
    "\n",
    "sns.despine()\n",
    "\n",
    "#plt.savefig('./Figures/descriptive_stats_atleast1_all.pdf',dpi = 300, bbox_inches=\"tight\")\n",
    "#plt.savefig('./Figures/descriptive_stats_atleast1_all.png',dpi = 300, bbox_inches=\"tight\")"
   ]
  },
  {
   "cell_type": "markdown",
   "metadata": {},
   "source": [
    "#### Absolute numbers:"
   ]
  },
  {
   "cell_type": "code",
   "execution_count": null,
   "metadata": {},
   "outputs": [],
   "source": [
    "print('Number of articles with all female authors:', (1 - p_atleast_m)*df.shape[0])\n",
    "print('Number of articles with all male authors:', (1 - p_atleast_f)*df.shape[0])\n",
    "print('Ratio between them:', (1 - p_atleast_f)/(1 - p_atleast_m))\n",
    "\n",
    "print('Number of articles with at least one female authors:', p_atleast_f*df.shape[0])\n",
    "print('Number of articles with at least one male authors:', p_atleast_m*df.shape[0])\n",
    "print('Ratio between them:', p_atleast_m/p_atleast_f)"
   ]
  },
  {
   "cell_type": "markdown",
   "metadata": {},
   "source": [
    "#### Plot in a nicer way:"
   ]
  },
  {
   "cell_type": "code",
   "execution_count": null,
   "metadata": {},
   "outputs": [],
   "source": [
    "labels = ['Mixed', 'All male', 'All female']\n",
    "sizes = [df.shape[0]-(1 - p_atleast_f)*df.shape[0]-(1 - p_atleast_m)*df.shape[0],\n",
    "         (1 - p_atleast_f)*df.shape[0], (1 - p_atleast_m)*df.shape[0]]\n",
    "explode = (0., 0., 0.)  # \n",
    "colors = ['rosybrown','lightgray','rebeccapurple']\n",
    "\n",
    "fig1, ax1 = plt.subplots()\n",
    "patches, texts, pcts = ax1.pie(sizes, explode=explode, labels=labels, autopct='%1.1f%%',\n",
    "        shadow=False, startangle=90,labeldistance = None,  colors = colors,\n",
    "       wedgeprops={'linewidth': 2.0, 'edgecolor': 'white'},rotatelabels=True)\n",
    "ax1.axis('equal')  # Equal aspect ratio ensures that pie is drawn as a circle.\n",
    "ax1.legend( bbox_to_anchor=(0.8, 0.95),\n",
    "          ncol=1, fancybox=True, shadow=False)\n",
    "plt.setp(pcts, color='black')\n",
    "pcts[2].set_position((0.1,1.1))\n",
    "pcts[0].set_fontsize(14)\n",
    "pcts[1].set_fontsize(14)\n",
    "pcts[2].set_fontsize(14)\n",
    "\n",
    "#plt.savefig('./Figures/descriptive_stats_atleast1_all_pieplot.pdf',dpi = 300, bbox_inches=\"tight\")\n",
    "#plt.savefig('./Figures/descriptive_stats_atleast1_all_pieplot.png',dpi = 300, bbox_inches=\"tight\")"
   ]
  },
  {
   "cell_type": "markdown",
   "metadata": {},
   "source": [
    "#### in between: Overall probailities of female / male authors per number of auhtors in papers"
   ]
  },
  {
   "cell_type": "code",
   "execution_count": null,
   "metadata": {},
   "outputs": [],
   "source": [
    "# Theoretical probabilities\n",
    "print(\"=\" * 100)\n",
    "print(\"Probability that a paper with x author(s) has at least 1 female author:\")\n",
    "print(\"x=1: p=\", round(1. - p_male_all, 3), \";   x=2: p=\", round(1. - p_male_all ** 2, 3),\n",
    "      \";   x=3: p=\", round(1. - p_male_all ** 3, 3), \";   p=10: p=\", round(1. - p_male_all ** 10, 3))\n",
    "print(\"=\" * 100)\n",
    "# and the reverse:\n",
    "print(\"Probability that a paper with x author(s) has only female authors:\")\n",
    "print(\"x=1: p=\", round(p_female_all, 3), \";   x=2: p=\", round(p_female_all ** 2, 3),\n",
    "      \";   x=3: p=\", round(p_female_all ** 3, 3), \";   p=10: p=\", round(p_female_all ** 10, 3))\n",
    "# etc\n",
    "print(\"=\" * 100)\n",
    "#==================================\n",
    "\n",
    "\n",
    "\n",
    "# Compute theoretical probabilities of having all male / all female / 1 male / 1 female author(s)\n",
    "#==================================\n",
    "dummy = pd.DataFrame()\n",
    "n_authors = range(1, 21)\n",
    "p_all_f_given_n = p_female_all ** n_authors\n",
    "p_all_m_given_n = p_male_all ** n_authors\n",
    "p_one_f_given_n = 1. - p_all_m_given_n\n",
    "p_one_m_given_n = 1. - p_all_f_given_n\n",
    "\n",
    "\n",
    "# UGLY CODE below. Please fix if you are inspired\n",
    "n_authors_data = df.Number_authors.unique()\n",
    "n_authors_data.sort()\n",
    "\n",
    "p_atleast_f_per_n = []\n",
    "p_atleast_m_per_n = []\n",
    "p_all_f_per_n = []\n",
    "p_all_m_per_n = []\n",
    "# p_atleast_f_per_n_binary = []\n",
    "# p_atleast_m_per_n_binary = []\n",
    "# p_all_f_per_n_binary = []\n",
    "# p_all_m_per_n_binary = []\n",
    "\n",
    "nr_papers_n = []\n",
    "n_authors_data = n_authors_data[0: 20]\n",
    "for i in n_authors_data:\n",
    "    p_atleast_f_per_n.append(df[df.Number_authors == i].Prob_atleast_Fauthor.mean())    \n",
    "    p_atleast_m_per_n.append(df[df.Number_authors == i].Prob_atleast_Mauthor.mean())\n",
    "    p_all_f_per_n.append((1. - df[df.Number_authors == i].Prob_atleast_Mauthor).mean())\n",
    "    p_all_m_per_n.append((1. - df[df.Number_authors == i].Prob_atleast_Fauthor).mean())\n",
    "    \n",
    "#     p_atleast_f_per_n_binary.append(df[df.Number_authors == i].Prob_atleast_Fauthor_binary.mean())    \n",
    "#     p_atleast_m_per_n_binary.append(df[df.Number_authors == i].Prob_atleast_Mauthor_binary.mean())\n",
    "#     p_all_f_per_n_binary.append((1. - df[df.Number_authors == i].Prob_atleast_Mauthor_binary).mean())\n",
    "#     p_all_m_per_n_binary.append((1. - df[df.Number_authors == i].Prob_atleast_Fauthor_binary).mean())\n",
    "    \n",
    "    nr_papers_n.append(len(df[df.Number_authors == i])) \n",
    "\n",
    "dummy[\"n\"] = n_authors_data\n",
    "dummy[\"n_t\"] = n_authors_data - 1\n",
    "dummy[\"all_f\"] = p_all_f_per_n\n",
    "dummy[\"all_f_theory\"] = p_all_f_given_n\n",
    "dummy[\"all_m\"] = p_all_m_per_n\n",
    "dummy[\"all_m_theory\"] = p_all_m_given_n\n",
    "dummy[\"all_m_plot\"] = dummy[\"all_m\"] + dummy[\"all_f\"]\n",
    "dummy[\"all_m_theory_plot\"] = dummy[\"all_m_theory\"] + dummy[\"all_f_theory\"]\n",
    "dummy[\"mixed\"] = np.ones(len(p_all_m_given_n)) - dummy.all_m - dummy.all_f\n",
    "dummy[\"mixed_plot\"] = np.ones(len(p_all_m_given_n))\n",
    "dummy[\"all_m_plot2\"] = np.ones(len(p_all_m_given_n))\n",
    "dummy[\"mixed_plot2\"] = dummy[\"mixed\"] + dummy[\"all_f\"]\n",
    "dummy[\"all_m_theory_plot\"] = np.ones(len(p_all_m_given_n)) - dummy.all_m_theory\n",
    "\n",
    "## Plot results: \n",
    "dummy[\"all_m_theory_plot\"].iat[0] = np.nan\n",
    "sns.barplot(y=\"all_m_plot2\", x=\"n\", data=dummy ,color=\"lightgrey\", dodge=False)\n",
    "sns.barplot(y=\"mixed_plot2\", x=\"n\", data=dummy ,color=\"rosybrown\", dodge=False)\n",
    "sns.barplot(y=\"all_f\",x=\"n\", data=dummy, color=\"rebeccapurple\")\n",
    "sns.scatterplot(x=\"n_t\", y=\"all_f_theory\", data=dummy, marker=\"o\", linewidth=1, zorder=10, \n",
    "                color=\"white\", edgecolor=\"k\")\n",
    "sns.scatterplot(x=\"n_t\", y=\"all_m_theory_plot\", data=dummy, marker=\"o\", linewidth=1,zorder=10, \n",
    "                color=\"white\", edgecolor=\"k\")\n",
    "plt.ylabel(\"Probability\")\n",
    "\n",
    "sns.despine()\n",
    "#plt.xticks([i for i in range(0, 13, 2)], [i for i in range(0, 13, 2)])\n",
    "plt.xlim(-0.5, 11.5)\n",
    "plt.xlabel(\"Number of authors\")\n",
    "print(dummy[\"n\"].values)\n",
    "print(nr_papers_n)\n",
    "\n",
    "#plt.savefig('./Figures/probs_vs_nauthors.pdf',dpi = 300, bbox_inches=\"tight\")"
   ]
  },
  {
   "cell_type": "markdown",
   "metadata": {},
   "source": [
    "#### plot biases to better understand the figures above"
   ]
  },
  {
   "cell_type": "code",
   "execution_count": null,
   "metadata": {},
   "outputs": [],
   "source": [
    "plt.figure()\n",
    "ax = plt.subplot(111)\n",
    "plt.bar(dummy.n,  dummy.all_m_theory - dummy.all_m, color=\"rebeccapurple\")\n",
    "#plt.bar(dummy.n, dummy.all_f_theory - dummy.all_f, color=\"lightgray\")\n",
    "\n",
    "plt.xlim(0, 12.5)\n",
    "plt.ylim(-0.08, 0.08)\n",
    "#plt.legend([\"At least one female\", \"At least one male\"])#[\"P(f | n, obs) - P(f | n)\", \"P(m | n, obs) - P(m | n)\"])\n",
    "plt.xticks([i for i in range(0, 13, 2)], [i for i in range(0, 13, 2)])\n",
    "plt.xlabel(\"Number of authors\")\n",
    "plt.ylabel(\"Discrepancy\")\n",
    "plt.hlines(y=0.0, xmin=0., xmax=13, linestyles=\"-\", linewidth=0.75, color=\"k\")\n",
    "# plt.title(\"Bias at least one female\")\n",
    "ax.spines['top'].set_visible(False)\n",
    "ax.spines['right'].set_visible(False)\n",
    "#plt.savefig(\"./Figures/bias_pAtLeast1Female.pdf\", bbox_inches=\"tight\", dpi=150)"
   ]
  },
  {
   "cell_type": "markdown",
   "metadata": {},
   "source": [
    "#### check how many papers in each bin"
   ]
  },
  {
   "cell_type": "code",
   "execution_count": null,
   "metadata": {},
   "outputs": [],
   "source": [
    "for i in range(12): #update values for each journal\n",
    "    cond = df['Number_authors']==(i+1)\n",
    "    print(\"N = \", len(df[cond].values), \" for number of authors \", i + 1)"
   ]
  },
  {
   "cell_type": "markdown",
   "metadata": {},
   "source": [
    "#### consequences:"
   ]
  },
  {
   "cell_type": "code",
   "execution_count": null,
   "metadata": {},
   "outputs": [],
   "source": [
    "import math\n",
    "\n",
    "print('A female author will have 95% probability of being in a publication if the article has at least',\n",
    "math.ceil(np.log(0.05)/np.log(p_male_all)),'auhtors')\n",
    "\n",
    "print('A male author will have 95% probability of being in a publication if the article has at least',\n",
    "math.ceil(np.log(0.05)/np.log(p_female_all)),'auhtors')"
   ]
  },
  {
   "cell_type": "markdown",
   "metadata": {},
   "source": [
    "#### average number of authors in dataset"
   ]
  },
  {
   "cell_type": "code",
   "execution_count": null,
   "metadata": {},
   "outputs": [],
   "source": [
    "mean_articles = df['Number_authors'].sum()/df.shape[0]\n",
    "\n",
    "print('Average number of authors for articles', mean_articles)"
   ]
  },
  {
   "cell_type": "markdown",
   "metadata": {},
   "source": [
    "#### We can compute the same probabilities per each journal"
   ]
  },
  {
   "cell_type": "code",
   "execution_count": null,
   "metadata": {},
   "outputs": [],
   "source": [
    "journals = df['journal'].unique() # a list of unique journal names\n",
    "\n",
    "\n",
    "for i in journals: #update values for each journal\n",
    "    cond = df['journal']==i\n",
    "    print(\"N = \", len(df[cond].values), \" for journal \", i)\n",
    "    df.loc[cond,'P_atleast_F_journal'] = df.loc[cond,'Prob_atleast_Fauthor'].sum()/df[cond].shape[0]\n",
    "    df.loc[cond,'P_atleast_M_journal'] = df.loc[cond,'Prob_atleast_Mauthor'].sum()/df[cond].shape[0]\n",
    "    df.loc[cond,'P_first_F_journal'] = df.loc[cond,'First_Author_probF'].sum()/df[cond].shape[0]\n",
    "    df.loc[cond,'P_last_F_journal'] = df.loc[cond,'Last_Author_probF'].sum()/df[cond].shape[0]\n",
    "    df.loc[cond,'Number_authors_journal'] = df.loc[cond,'Number_authors'].mean()\n",
    "\n",
    "\n",
    "    cond = df_co['journal']==i\n",
    "    n_coauthors =df_co[cond].Number_authors.sum() - 2*df_co[cond].shape[0]\n",
    "\n",
    "    # Sum of probability of female / total nr. \n",
    "    df_co.loc[cond,'P_coauthor_F_journal'] = df_co[cond].apply(lambda x: Prob_coauthor(x.all_genders, x.all_percent, kind=\"female\"), axis=1).sum() / n_coauthors    "
   ]
  },
  {
   "cell_type": "markdown",
   "metadata": {},
   "source": [
    "#### Plot bar plots for fixed number of authors"
   ]
  },
  {
   "cell_type": "code",
   "execution_count": null,
   "metadata": {},
   "outputs": [],
   "source": [
    "## Gather all high impact journals together to increase number of papers in bin\n",
    "\n",
    "df['journal2'] = df['journal']\n",
    "df.loc[df['journal2'] == 'Nature','journal2'] = 'Nat/Sci' \n",
    "df.loc[df['journal2'] == 'Science','journal2'] = 'Nat/Sci' \n",
    "df.loc[df['journal2'] == 'NatGeo','journal2'] = 'Nat/Sci' "
   ]
  },
  {
   "cell_type": "code",
   "execution_count": null,
   "metadata": {},
   "outputs": [],
   "source": [
    "### First author\n",
    "\n",
    "dict_IF = ['Nat/Sci', 'EPSL', 'GRL', \n",
    "        'JGR', 'G3', 'SRL', 'Tectp', 'SE', \n",
    "       'GEOPH.', 'GJI', 'BSSA', 'PEPI']\n",
    "\n",
    "from matplotlib.pyplot import figure\n",
    "\n",
    "figure(figsize=(4, 4))\n",
    "\n",
    "\n",
    "ax = sns.barplot(y=\"journal2\", x=\"First_Author_probF\",  data=df, order=dict_IF, color = 'rebeccapurple',capsize=.2, errwidth = 2,\n",
    "                ci = None)\n",
    "\n",
    "plt.xlim([0,0.5])\n",
    "\n",
    "patches = ax.patches\n",
    "lines_per_err = 3\n",
    "\n",
    "for i, line in enumerate(ax.get_lines()):\n",
    "    line.set_color('white')\n",
    "    \n",
    "\n",
    "ax.spines['right'].set_visible(False)\n",
    "ax.spines['top'].set_visible(False)\n",
    "\n",
    "plt.grid(alpha=0.5)\n",
    "\n",
    "\n",
    "ax.axvline(p_ff, ls=':', color = 'black', lw = '2.')  #a line in the overall value\n",
    "\n",
    "ax.set(xlabel='Probability', ylabel='')\n",
    "#ax.set_title('Prob. first female author')\n",
    "\n",
    "#plt.savefig('./Figures/First_f_perJournal.pdf',dpi = 300, bbox_inches=\"tight\")\n",
    "#plt.savefig('./Figures/First_f_perJournal.png',dpi = 300, bbox_inches=\"tight\")"
   ]
  },
  {
   "cell_type": "code",
   "execution_count": null,
   "metadata": {},
   "outputs": [],
   "source": [
    "### Last author\n",
    "\n",
    "figure(figsize=(4, 4))\n",
    "\n",
    "\n",
    "ax =  sns.barplot(y=\"journal2\", x=\"Last_Author_probF\",  data=df, order=dict_IF, color = 'rebeccapurple',capsize=.2, errwidth = 2,\n",
    "                ci = None)\n",
    "\n",
    "plt.xlim([0,0.5])\n",
    "\n",
    "patches = ax.patches\n",
    "lines_per_err = 3\n",
    "\n",
    "for i, line in enumerate(ax.get_lines()):\n",
    "    line.set_color('white')\n",
    "    \n",
    "\n",
    "ax.spines['right'].set_visible(False)\n",
    "ax.spines['top'].set_visible(False)\n",
    "\n",
    "plt.grid(alpha=0.5)\n",
    "\n",
    "ax.axvline(p_fl, ls=':', color = 'black', lw = '2.')  #a line in the overall value\n",
    "\n",
    "ax.set(xlabel='Probability', ylabel='')\n",
    "#ax.set_title('Prob. last female author')\n",
    "\n",
    "#plt.savefig('./Figures/Last_f_perJournal.pdf',dpi = 300, bbox_inches=\"tight\")\n",
    "#plt.savefig('./Figures/Last_f_perJournal.png',dpi = 300, bbox_inches=\"tight\")"
   ]
  },
  {
   "cell_type": "code",
   "execution_count": null,
   "metadata": {},
   "outputs": [],
   "source": [
    "### co-authors\n",
    "\n",
    "figure(figsize=(4, 4))\n",
    "\n",
    "\n",
    "df_co['journal2'] = df_co['journal']\n",
    "df_co.loc[df_co['journal2'] == 'Nature','journal2'] = 'Nat/Sci' \n",
    "df_co.loc[df_co['journal2'] == 'Science','journal2'] = 'Nat/Sci' \n",
    "df_co.loc[df_co['journal2'] == 'NatGeo','journal2'] = 'Nat/Sci' \n",
    "\n",
    "\n",
    "ax = sns.barplot(y=\"journal2\", x=\"P_coauthor_F_journal\",  data=df_co, order=dict_IF, color = 'rebeccapurple',capsize=.2, errwidth = 2,\n",
    "                ci = None)\n",
    "\n",
    "plt.xlim([0,0.5])\n",
    "\n",
    "patches = ax.patches\n",
    "lines_per_err = 3\n",
    "\n",
    "for i, line in enumerate(ax.get_lines()):\n",
    "    line.set_color('white')\n",
    "    \n",
    "\n",
    "ax.spines['right'].set_visible(False)\n",
    "ax.spines['top'].set_visible(False)\n",
    "\n",
    "plt.grid(alpha=0.5)\n",
    "\n",
    "ax.axvline(p_female_all_co, ls=':', color = 'black', lw = '2.')  #a line in the overall value\n",
    "\n",
    "ax.set(xlabel='Probability', ylabel='')\n",
    "#ax.set_title('Prob. female coauthor')\n",
    "\n",
    "#plt.savefig('./Figures/Coauthor_f_perJournal.pdf',dpi = 300, bbox_inches=\"tight\")\n",
    "#plt.savefig('./Figures/Coauthor_f_perJournal.png',dpi = 300, bbox_inches=\"tight\")"
   ]
  },
  {
   "cell_type": "code",
   "execution_count": null,
   "metadata": {},
   "outputs": [],
   "source": [
    "### At least on female author\n",
    "\n",
    "df['all_f'] = 1 - df[\"P_atleast_M_journal\"]\n",
    "df['all_m'] = 1 - df[\"P_atleast_F_journal\"]\n",
    "df['mixed'] = 1- df['all_m'] \n",
    "df['all_m'] = 1 \n",
    "\n",
    "\n",
    "ax = sns.barplot(y=\"journal2\", x=\"all_m\",  data=df, order=dict_IF, color = 'lightgray',capsize=.2, errwidth = 2,\n",
    "                ci = None)\n",
    "\n",
    "ax = sns.barplot(y=\"journal2\", x=\"mixed\",  data=df, order=dict_IF, color = 'rosybrown',capsize=.2, errwidth = 2,\n",
    "                ci = None)\n",
    "\n",
    "sns.barplot(y=\"journal2\", x=\"all_f\",  data=df, order=dict_IF, color = 'rebeccapurple',capsize=.2, errwidth = 2,\n",
    "ci = None)\n",
    "plt.xlim([0,1])\n",
    "\n",
    "ax.set(xlabel='Probability', ylabel='')\n",
    "ax.set_title('Prob. at least one female author')\n",
    "\n",
    "#plt.savefig('./Figures/Atleast1_f_perJournal_orderIF_mixed.pdf',dpi = 300, bbox_inches=\"tight\")\n",
    "#plt.savefig('./Figures/Atleast1_f_perJournal_orderIF_mixed.png',dpi = 300, bbox_inches=\"tight\")"
   ]
  },
  {
   "cell_type": "code",
   "execution_count": null,
   "metadata": {},
   "outputs": [],
   "source": [
    "### plot average number of authors per journal\n",
    "\n",
    "ax = sns.barplot(y=\"journal2\", x=\"Number_authors\",  data=df,estimator = np.mean, order=dict_IF, \n",
    "                 color = 'c', ci=None, capsize=.2, errwidth = 2)\n",
    "\n",
    "ax.set(xlabel='Number authors', ylabel='')\n",
    "\n",
    "ax.spines['right'].set_visible(False)\n",
    "ax.spines['top'].set_visible(False)\n",
    "\n",
    "plt.grid(alpha=0.5)\n",
    "plt.xlim([0,5.01])\n",
    "\n",
    "#plt.savefig('./Figures/NumAuthors_perJournal.pdf',dpi = 300, bbox_inches=\"tight\")\n",
    "#plt.savefig('./Figures/NumAuthors_perJournal_orderNumAuthor.png',dpi = 300, bbox_inches=\"tight\")"
   ]
  },
  {
   "cell_type": "markdown",
   "metadata": {},
   "source": [
    "#### See the temporal trend of having at least one F or one M in a publication for all journals per year\n"
   ]
  },
  {
   "cell_type": "code",
   "execution_count": null,
   "metadata": {},
   "outputs": [],
   "source": [
    "years = df['year'].unique() # a list of unique journal names\n",
    "years.sort()\n",
    "print(years)\n",
    "\n",
    "for i in years: #update values for each journal\n",
    "    cond = df['year']==i\n",
    "    print(\"Number of articles = \", len(df[cond].values), \" for year \", i)\n",
    "    df.loc[cond,'P_atleast_F_year'] = df.loc[cond,'Prob_atleast_Fauthor'].sum()/df[cond].shape[0]\n",
    "    df.loc[cond,'P_atleast_M_year'] = df.loc[cond,'Prob_atleast_Mauthor'].sum()/df[cond].shape[0]\n",
    "    df.loc[cond,'All_M_year'] = (1 - df.loc[cond,'Prob_atleast_Fauthor']).sum()/df[cond].shape[0]\n",
    "    df.loc[cond,'All_F_year'] = (1 - df.loc[cond,'Prob_atleast_Mauthor']).sum()/df[cond].shape[0]\n",
    "    df.loc[cond,'Mixed_year'] = (1 - df.loc[cond,'All_M_year'] - df.loc[cond,'All_F_year']).sum()/df[cond].shape[0]\n",
    "    df.loc[cond,'Number_authors_year'] = df.loc[cond,'Number_authors'].mean()\n",
    "    \n",
    "    cond = df_co['year']==i\n",
    "    n_coauthors =df_co[cond].Number_authors.sum() - 2*df_co[cond].shape[0]\n",
    "\n",
    "    # Sum of probability of female / total nr. \n",
    "    df_co.loc[cond,'P_coauthor_F_year'] = df_co[cond].apply(lambda x: Prob_coauthor(x.all_genders, x.all_percent, kind=\"female\"), axis=1).sum() / n_coauthors\n"
   ]
  },
  {
   "cell_type": "markdown",
   "metadata": {},
   "source": [
    "#### Plot useful graphs:"
   ]
  },
  {
   "cell_type": "code",
   "execution_count": null,
   "metadata": {},
   "outputs": [],
   "source": [
    "### Prob at least one female, all male, and all female authors\n",
    "\n",
    "df['All_M_year_plot'] = 1\n",
    "df['Mixed_year_plot'] = 1 - df['All_M_year']\n",
    "\n",
    "\n",
    "ax = sns.barplot(y=\"year\", x=\"All_M_year_plot\",  data=df, order=years, color = 'lightgray',capsize=.2, errwidth = 2,\n",
    "                ci = None)\n",
    "\n",
    "ax = sns.barplot(y=\"year\", x=\"Mixed_year_plot\",  data=df, order=years, color = 'rosybrown',capsize=.2, errwidth = 2,\n",
    "                ci = None)\n",
    "\n",
    "sns.barplot(y=\"year\", x=\"All_F_year\",  data=df, order=years, color = 'rebeccapurple',capsize=.2, errwidth = 2,\n",
    "ci = None)\n",
    "ax.set(xlabel='Probability', ylabel='Year')\n",
    "plt.xlim([0,1])\n",
    "\n",
    "# plt.savefig('./Figures/Atleast1_f_perYear.pdf',dpi = 300, bbox_inches=\"tight\")\n",
    "# plt.savefig('./Figures/Atleast1_f_perYear.png',dpi = 300, bbox_inches=\"tight\")"
   ]
  },
  {
   "cell_type": "code",
   "execution_count": null,
   "metadata": {},
   "outputs": [],
   "source": [
    "### plot the same but for different years\n",
    "\n",
    "labels = ['Mixed', 'All male', 'All female']\n",
    "colors = ['rosybrown','lightgray','rebeccapurple']\n",
    "explode = (0., 0., 0.)  # \n",
    "\n",
    "\n",
    "years_sub = ['2010','2015','2020']\n",
    "fig1, ax1 = plt.subplots(1,len(years_sub),figsize=(15, 5))\n",
    "\n",
    "#years_sub = ['2010','2012','2014','2016','2018','2020']\n",
    "\n",
    "#fig1, ax1 = plt.subplots(2,int(len(years_sub)/2),figsize=(15, 5))\n",
    "\n",
    "ax1 = ax1.ravel()\n",
    "\n",
    "\n",
    "\n",
    "for i,year in enumerate(years_sub): #update values for each journal\n",
    "    cond = df['year']==year\n",
    "    sizes = [1 - (1 - df.loc[cond,'P_atleast_F_year'].mean()) - (1 - df.loc[cond,'P_atleast_M_year'].mean()),\n",
    "             1 - df.loc[cond,'P_atleast_F_year'].mean(),1 - df.loc[cond,'P_atleast_M_year'].mean()]\n",
    "\n",
    "    print(sizes)\n",
    "\n",
    "\n",
    "    patches, texts, pcts = ax1[i].pie(sizes, explode=explode, labels=labels, autopct='%1.1f%%', normalize = True,\n",
    "        shadow=False, startangle=90,labeldistance = None,  colors = colors,\n",
    "       wedgeprops={'linewidth': 2.0, 'edgecolor': 'white'},rotatelabels=True)\n",
    "    ax1[i].axis('equal')  # Equal aspect ratio ensures that pie is drawn as a circle.\n",
    "    ax1[i].set_title(year, y=-0.05)\n",
    "    plt.setp(pcts, color='black')\n",
    "    pcts[2].set_position((0.1,1.1))\n",
    "    pcts[0].set_fontsize(14)\n",
    "    pcts[1].set_fontsize(14)\n",
    "    pcts[2].set_fontsize(14)\n",
    "\n",
    "\n",
    "\n",
    "    \n",
    "ax1[i].legend( bbox_to_anchor=(0.95, 0.65),\n",
    "          ncol=1, fancybox=True, shadow=False)\n",
    "\n",
    "\n",
    "#plt.savefig('./Figures/PerYear_atleast1_all_pieplot.pdf',dpi = 300, bbox_inches=\"tight\")\n",
    "#plt.savefig('./Figures/PerYear_atleast1_all_pieplot.png',dpi = 300, bbox_inches=\"tight\")"
   ]
  },
  {
   "cell_type": "markdown",
   "metadata": {},
   "source": [
    "#### Female & male first, last, and co- authorship probabilities per year "
   ]
  },
  {
   "cell_type": "code",
   "execution_count": null,
   "metadata": {},
   "outputs": [],
   "source": [
    "figure(figsize=(4, 4))\n",
    "\n",
    "#ax = sns.barplot(y=\"year\", x=\"First_Author_probF\",  data=df, estimator = sum, order=years, color = 'lightgray')\n",
    "ax = sns.barplot(y=\"year\", x=\"First_Author_probF\", data=df, ci=None,  order=years, color='rebeccapurple',dodge = False,\n",
    "           capsize=.2, errwidth = 2)\n",
    "ax.set(xlabel='Probability first author', ylabel='Year')\n",
    "plt.xlim([0,0.5])\n",
    "\n",
    "patches = ax.patches\n",
    "lines_per_err = 3\n",
    "\n",
    "for i, line in enumerate(ax.get_lines()):\n",
    "    line.set_color('white')\n",
    "    \n",
    "\n",
    "ax.spines['right'].set_visible(False)\n",
    "ax.spines['top'].set_visible(False)\n",
    "\n",
    "plt.grid(alpha=0.5)\n",
    "\n",
    "\n",
    "#plt.savefig('./Figures/FirstAuthor_perYear.pdf',dpi = 300, bbox_inches=\"tight\")\n",
    "#plt.savefig('./Figures/FirstAuthor_perYear.png',dpi = 300, bbox_inches=\"tight\")"
   ]
  },
  {
   "cell_type": "code",
   "execution_count": null,
   "metadata": {},
   "outputs": [],
   "source": [
    "figure(figsize=(4, 4))\n",
    "#ax = sns.barplot(y=\"year\", x=\"Last_Author_probF\",  data=df, estimator = sum, order=years, color = 'lightgray')\n",
    "ax=sns.barplot(y=\"year\", x=\"Last_Author_probF\", data=df, ci=None,  order=years, color='rebeccapurple',dodge = False,\n",
    "            capsize=.2, errwidth = 2)\n",
    "ax.set(xlabel='Probability last author', ylabel='Year')\n",
    "plt.xlim([0,0.5])\n",
    "\n",
    "patches = ax.patches\n",
    "lines_per_err = 3\n",
    "\n",
    "for i, line in enumerate(ax.get_lines()):\n",
    "    line.set_color('white')\n",
    "    \n",
    "ax.spines['right'].set_visible(False)\n",
    "ax.spines['top'].set_visible(False)\n",
    "\n",
    "plt.grid(alpha=0.5)\n",
    "\n",
    "#plt.savefig('./Figures/LastAuthor_perYear.pdf',dpi = 300, bbox_inches=\"tight\")\n",
    "#plt.savefig('./Figures/LastAuthor_perYear.png',dpi = 300, bbox_inches=\"tight\")"
   ]
  },
  {
   "cell_type": "code",
   "execution_count": null,
   "metadata": {},
   "outputs": [],
   "source": [
    "figure(figsize=(4, 4))\n",
    "\n",
    "#ax = sns.barplot(y=\"year\", x=\"P_coauthor_F_year\",  data=df_co, estimator = sum, order=years, color = 'lightgray',capsize=.2, errwidth = 2,\n",
    "#                ci = None)\n",
    "ax= sns.barplot(y=\"year\", x=\"P_coauthor_F_year\",  data=df_co, order=years, color = 'rebeccapurple',capsize=.2, errwidth = 2,\n",
    "                ci = None)\n",
    "plt.xlim([0,0.5])\n",
    "\n",
    "ax.set(xlabel='Probability coauthor', ylabel='Year')\n",
    "ax.set_title('')\n",
    "\n",
    "ax.spines['right'].set_visible(False)\n",
    "ax.spines['top'].set_visible(False)\n",
    "\n",
    "plt.grid(alpha=0.5)\n",
    "\n",
    "#plt.savefig('./Figures/Coauthor_f_perYear.pdf',dpi = 300, bbox_inches=\"tight\")\n",
    "#plt.savefig('./Figures/Coauthor_f_perYear.png',dpi = 300, bbox_inches=\"tight\")"
   ]
  },
  {
   "cell_type": "markdown",
   "metadata": {},
   "source": [
    "#### Average number of articles per year"
   ]
  },
  {
   "cell_type": "code",
   "execution_count": null,
   "metadata": {},
   "outputs": [],
   "source": [
    "ax = sns.barplot(y=\"year\", x=\"Number_authors\", data=df, ci=None, estimator = np.mean, order=years, color='c',dodge = False,\n",
    "            capsize=.2, errwidth = 2)\n",
    "ax.set(xlabel='Number authors', ylabel='Year')\n",
    "\n",
    "ax.spines['right'].set_visible(False)\n",
    "ax.spines['top'].set_visible(False)\n",
    "\n",
    "plt.grid(alpha=0.5)\n",
    "plt.xlim([0,5.01])\n",
    "\n",
    "\n",
    "#plt.savefig('./Figures/NumberAuthors_perYear.pdf',dpi = 300, bbox_inches=\"tight\")\n",
    "#plt.savefig('./Figures/NumberAuthors_perYear.png',dpi = 300, bbox_inches=\"tight\")"
   ]
  },
  {
   "cell_type": "markdown",
   "metadata": {},
   "source": [
    "#### Rates of change in participation of female authors per year\n"
   ]
  },
  {
   "cell_type": "code",
   "execution_count": null,
   "metadata": {},
   "outputs": [],
   "source": [
    "for i in years: #update values for each journal\n",
    "    cond = (df['year']==i) \n",
    "    # alternatively: Do not remove Init and then probabilities do not sum to 1.\n",
    "    # cond = df['year']==i\n",
    "    \n",
    "    print(\"Number of articles = \", len(df[cond].values), \" for year \", i)\n",
    "    df.loc[cond,'P_first_F_year'] = df.loc[cond,'First_Author_probF'].sum() / len(df.loc[cond])\n",
    "    df.loc[cond,'P_first_M_year'] = (1. - df.loc[cond,'First_Author_probF']).sum() / len(df.loc[cond])\n",
    "    \n",
    "    # uncomment the following line to check if sums up to 1\n",
    "    # print(df.loc[cond, \"P_first_F_year\"].iloc[0:5] + df.loc[cond, \"P_first_M_year\"].iloc[0:5])\n",
    "    print(\"Probability that first author is female: \", df.loc[cond, \"P_first_F_year\"].iloc[0])\n",
    "    print(\"Probability that first author is male: \", df.loc[cond, \"P_first_M_year\"].iloc[0])\n",
    "\n",
    "    \n",
    "    # last author\n",
    "    cond = (df['year']==i) \n",
    "    # alternatively: Do not remove Init and then probabilities do not sum to 1.\n",
    "    # cond = df['year']==i\n",
    "    \n",
    "    #print(\"Number of articles = \", len(df[cond].values), \" for year \", i)\n",
    "    df.loc[cond,'P_last_F_year'] = df.loc[cond,'Last_Author_probF'].sum() / len(df.loc[cond])\n",
    "    df.loc[cond,'P_last_M_year'] = (1. - df.loc[cond,'Last_Author_probF']).sum() / len(df.loc[cond])\n",
    "    \n",
    "    # uncomment the following line to check if sums up to 1\n",
    "    # print(df.loc[cond, \"P_last_F_year\"].iloc[0:5] + df.loc[cond, \"P_last_M_year\"].iloc[0:5])\n",
    "    print(\"Probability that last author is female: \", df.loc[cond, \"P_last_F_year\"].iloc[0])\n",
    "    print(\"Probability that last author is male: \", df.loc[cond, \"P_last_M_year\"].iloc[0])\n",
    "\n",
    "df.to_csv(\"analysis_output_\" + time.strftime(\"%Y-%m-%d.csv\"))"
   ]
  },
  {
   "cell_type": "code",
   "execution_count": null,
   "metadata": {},
   "outputs": [],
   "source": [
    "slope_1, intercept_1, r_value_1, p_value_1, std_err_1 = stats.linregress(\n",
    "    df.year.unique().astype('float'),df.P_first_F_year.unique())\n",
    "\n",
    "tmp = stats.linregress(\n",
    "    df.year.unique().astype('float'),df.P_first_F_year.unique())\n",
    "\n",
    "intercept_stderr_1 = tmp.intercept_stderr\n",
    "\n",
    "print('Pearson correlation coefficients and increasing rate:')\n",
    "print('\\n')\n",
    "\n",
    "print('Correlation between first female and year (r,p-value):', r_value_1, p_value_1)\n",
    "print('Increasing rate first female per year (%):', slope_1*100, ' SD:', std_err_1*100)\n",
    "\n",
    "\n",
    "slope_l, intercept_l, r_value_l, p_value_l, std_err_l = stats.linregress(\n",
    "    df.year.unique().astype('float'),df.P_last_F_year.unique())\n",
    "\n",
    "tmp = stats.linregress(\n",
    "    df.year.unique().astype('float'),df.P_last_F_year.unique())\n",
    "\n",
    "intercept_stderr_l = tmp.intercept_stderr\n",
    "\n",
    "print('\\n')\n",
    "print('Correlation between last female and year (r,p-value):', r_value_l, p_value_l)\n",
    "print('Increasing rate last female per year (%):', slope_l*100, ' SD:', std_err_l*100)\n",
    "\n",
    "slope_co, intercept_co, r_value_co, p_value_co, std_err_co = stats.linregress(\n",
    "    df_co.year.astype('float').unique(),df_co.P_coauthor_F_year.unique())\n",
    "\n",
    "tmp = stats.linregress(\n",
    "    df_co.year.astype('float').unique(),df_co.P_coauthor_F_year.unique())\n",
    "\n",
    "intercept_stderr_co = tmp.intercept_stderr\n",
    "\n",
    "print('\\n')\n",
    "print('Correlation between coauthor female and year (r,p-value):', r_value_co, p_value_co)\n",
    "print('Increasing rate coauthor female per year (%):', slope_co*100, ' SD:', std_err_co*100)\n",
    "\n",
    "\n",
    "slope_au, intercept_au, r_value_au, p_value_au, std_err_au = stats.linregress(\n",
    "    df.year.astype('float').unique(),df.Number_authors_year.unique())\n",
    "\n",
    "tmp = stats.linregress(\n",
    "    df.year.astype('float').unique(),df.Number_authors_year.unique())\n",
    "\n",
    "intercept_stderr_au = tmp.intercept_stderr\n",
    "\n",
    "print('\\n')\n",
    "print('Correlation between number of authors and year (r,p-value):', r_value_au, p_value_au)\n",
    "print('Increasing rate number of authors per year (%):', slope_au*100, ' SD:', std_err_au*100)\n",
    "\n",
    "\n",
    "\n",
    "slope_alf, intercept_alf, r_value_alf, p_value_alf, std_err_alf = stats.linregress(\n",
    "    df.year.astype('float').unique(),df.P_atleast_F_year.unique())\n",
    "\n",
    "tmp = stats.linregress(\n",
    "    df.year.astype('float').unique(),df.P_atleast_F_year.unique())\n",
    "\n",
    "intercept_stderr_alf = tmp.intercept_stderr\n",
    "\n",
    "print('\\n')\n",
    "print('Correlation between prob. at least one female author and year (r,p-value):', r_value_alf, p_value_alf)\n",
    "print('Increasing rate prob. at least one female author per year (%):', slope_alf*100, ' SD:', std_err_alf*100)\n",
    "\n",
    "slope_alm, intercept_alm, r_value_alm, p_value_alm, std_err_alm = stats.linregress(\n",
    "    df.year.astype('float').unique(),df.P_atleast_M_year.unique())\n",
    "\n",
    "tmp = stats.linregress(\n",
    "    df.year.astype('float').unique(),df.P_atleast_M_year.unique())\n",
    "\n",
    "intercept_stderr_alm = tmp.intercept_stderr\n",
    "\n",
    "print('\\n')\n",
    "print('Correlation between prob. at least one male author and year (r,p-value):', r_value_alm, p_value_alm)\n",
    "print('Increasing rate prob. at least one male author per year (%):', slope_alm*100, ' SD:', std_err_alm*100)\n"
   ]
  },
  {
   "cell_type": "code",
   "execution_count": null,
   "metadata": {},
   "outputs": [],
   "source": [
    "slope_mix, intercept_mix, r_value_mix, p_value_mix, std_err_mix = stats.linregress(\n",
    "    df.year.astype('float').unique(),df.Mixed_year.unique())\n",
    "\n",
    "tmp = stats.linregress(\n",
    "    df.year.astype('float').unique(),df.Mixed_year.unique())\n",
    "\n",
    "intercept_stderr_mix = tmp.intercept_stderr\n",
    "\n",
    "\n",
    "print('Correlation between prob. mixed-gender-authored publications and year (r,p-value):', \n",
    "      r_value_mix, p_value_mix)\n",
    "print('Increasing rate prob. mixed-gender-authored publications per year (%):', slope_mix*100, ' SD:', std_err_mix*100)"
   ]
  },
  {
   "cell_type": "markdown",
   "metadata": {},
   "source": [
    "\n",
    "\n",
    "Linear trends are statistically significant. \n",
    "\n",
    "The rates of increase per year are weirdly consistent for first and last author: 0.28 % for first authors and 0.31 % for last authors. For coauthors, is almost twice faster the incres: 0.556%\n",
    "\n",
    "# when would seismology reach parity?"
   ]
  },
  {
   "cell_type": "code",
   "execution_count": null,
   "metadata": {},
   "outputs": [],
   "source": [
    "year_parity_first = (0.5 - intercept_1) / slope_1\n",
    "print('Female and male first authorship will be equally likely in', year_parity_first - 2022, 'years')\n",
    "\n",
    "year_parity_last = (0.5 - intercept_l) / slope_l\n",
    "print('Female and male last authorship will be equally likely in', year_parity_last - 2022, 'years')\n",
    "\n",
    "year_parity_co = (0.5 - intercept_co) / slope_co\n",
    "print('Female and male coauthorship will be equally likely in', year_parity_co - 2022, 'years')\n",
    "\n",
    "year_parity_alf = (0.98 - intercept_alf) / slope_alf\n",
    "print('Female coauthors will appear in all papers in', year_parity_alf - 2022, 'years')\n",
    "\n",
    "year_parity_alm = (0.98 - intercept_alm) / slope_alm\n",
    "print('Male coauthors will appear in all papers in', year_parity_alm - 2022, 'years')"
   ]
  },
  {
   "cell_type": "code",
   "execution_count": null,
   "metadata": {},
   "outputs": [],
   "source": [
    "year_parity_mix = (0.98 - intercept_mix) / slope_mix\n",
    "print('Mixed-gender authors will appear in all papers in', year_parity_mix - 2022, 'years')"
   ]
  },
  {
   "cell_type": "markdown",
   "metadata": {},
   "source": [
    "### Oh...in just about 75 - 95 years! \n",
    "While the rate of increase in last authorship is ever so slightly higher, the level of last authorships is lower to begin with, so to reach parity will take a bit longer."
   ]
  }
 ],
 "metadata": {
  "kernelspec": {
   "display_name": "venv",
   "language": "python",
   "name": "venv"
  },
  "language_info": {
   "codemirror_mode": {
    "name": "ipython",
    "version": 3
   },
   "file_extension": ".py",
   "mimetype": "text/x-python",
   "name": "python",
   "nbconvert_exporter": "python",
   "pygments_lexer": "ipython3"
  }
 },
 "nbformat": 4,
 "nbformat_minor": 4
}
