{
 "cells": [
  {
   "cell_type": "markdown",
   "metadata": {},
   "source": [
    "### Conditional probabilities\n",
    "\n",
    "Since we found a small gender segregation effect earlier, let's look at this again in a different way. The questions are:\n",
    "\n",
    "- if the first author is female, does it affect the probability that another author is female?\n",
    "- if the last author is female, does it affect the probability that another author is female?\n",
    "\n",
    "Same for male, and 'at least one female coauthor'."
   ]
  },
  {
   "cell_type": "code",
   "execution_count": null,
   "metadata": {},
   "outputs": [],
   "source": [
    "# install the follwoing packages in the enviroment:\n",
    "# python3 -m pip install pandas\n",
    "# python3 -m pip install seaborn\n",
    "\n",
    "import pandas as pd\n",
    "import seaborn as sns\n",
    "import matplotlib.pyplot as plt\n",
    "\n",
    "import numpy as np\n",
    "import json\n",
    "\n",
    "import os\n",
    "\n",
    "from read_jsondata import read_jsons\n",
    "\n",
    "import time"
   ]
  },
  {
   "cell_type": "markdown",
   "metadata": {},
   "source": [
    "#### Configure local paths"
   ]
  },
  {
   "cell_type": "code",
   "execution_count": null,
   "metadata": {},
   "outputs": [],
   "source": [
    "root = ! pwd\n",
    "root = root[0]\n",
    "\n",
    "RAW_DIR=root+\"/author_allgenders/\"  \n",
    "\n",
    "if not os.path.exists(RAW_DIR):\n",
    "    print(\"The directory {} does not exist.\\nThere is no raw data for statistical analysis.\".format(RAW_DIR))"
   ]
  },
  {
   "cell_type": "markdown",
   "metadata": {},
   "source": [
    "#### Load data into pandas dataframe"
   ]
  },
  {
   "cell_type": "code",
   "execution_count": null,
   "metadata": {},
   "outputs": [],
   "source": [
    "df = read_jsons(RAW_DIR,  columns=['journal','all_names', 'all_genders','all_percent','year'])  \n",
    "df"
   ]
  },
  {
   "cell_type": "markdown",
   "metadata": {},
   "source": [
    "#### Create new columns in the dataframe extracting useful information from list of coauthors"
   ]
  },
  {
   "cell_type": "code",
   "execution_count": null,
   "metadata": {},
   "outputs": [],
   "source": [
    "# Number of authors:\n",
    "\n",
    "df['Number_authors'] = df['all_genders'].apply(lambda x: len(x)) #take the length of the list all_genders\n",
    "df['Number_init'] = df['all_genders'].apply(lambda x: len([s for s in x if \"init\"==s]))\n",
    "\n",
    "\n",
    "# First author's gender and percentage:\n",
    "\n",
    "df['First_Author_gend'] = df['all_genders'].apply(lambda x: x[0]) #take the first element of the list all_genders\n",
    "df['First_Author_perc'] = df['all_percent'].apply(lambda x: x[0])\n",
    "\n",
    "# Last author's gender and percentage:\n",
    "\n",
    "df['Last_Author_gend'] = df['all_genders'].apply(lambda x: x[-1]) #take the last element of the list all_genders\n",
    "df['Last_Author_perc'] = df['all_percent'].apply(lambda x: x[-1])"
   ]
  },
  {
   "cell_type": "markdown",
   "metadata": {},
   "source": [
    "#### dropping init (unidentified initialed names) and papers with only one author"
   ]
  },
  {
   "cell_type": "code",
   "execution_count": null,
   "metadata": {},
   "outputs": [],
   "source": [
    "df = df[df.Number_init==0].copy()\n",
    "df = df[df.Number_authors > 1].copy()"
   ]
  },
  {
   "cell_type": "markdown",
   "metadata": {},
   "source": [
    " #### It is easier if the all probabilities are with respect to the same gender (female)"
   ]
  },
  {
   "cell_type": "code",
   "execution_count": null,
   "metadata": {},
   "outputs": [],
   "source": [
    "# prob(female) = 1 - prob(male)\n",
    "\n",
    "# Prob last author female:\n",
    "\n",
    "df['Last_Author_probF'] = df['Last_Author_perc']\n",
    "df.loc[df['Last_Author_gend'] == 'male','Last_Author_probF'] = \\\n",
    "    1 - df.loc[df['Last_Author_gend'] == 'male','Last_Author_probF']\n",
    "\n",
    "# Prob first author female:\n",
    "\n",
    "df['First_Author_probF'] = df['First_Author_perc']\n",
    "df.loc[df['First_Author_gend'] == 'male','First_Author_probF'] = \\\n",
    "    1 - df.loc[df['First_Author_gend'] == 'male','First_Author_probF']\n"
   ]
  },
  {
   "cell_type": "markdown",
   "metadata": {},
   "source": [
    "#### Define functions for conditional probabilities"
   ]
  },
  {
   "cell_type": "code",
   "execution_count": null,
   "metadata": {},
   "outputs": [],
   "source": [
    "def Prob_intersect(x,y, gender_first, gender_last):\n",
    "    if x[0] == gender_first:\n",
    "        prod = float(y[0])\n",
    "    else:\n",
    "        prod = 1 - float(y[0])\n",
    "        \n",
    "    if x[-1] == gender_last:\n",
    "        prod *= float(y[-1])\n",
    "    else:\n",
    "        prod *= 1 - float(y[-1])\n",
    "    return prod\n",
    "\n",
    "# Create corresponding columns:\n",
    "\n",
    "df['Prob_FF'] = df.apply(lambda x: Prob_intersect(x.all_genders, x.all_percent, \n",
    "                                                               \"female\", \"female\"), axis=1)\n",
    "df['Prob_FM'] = df.apply(lambda x: Prob_intersect(x.all_genders, x.all_percent, \n",
    "                                                               \"female\", \"male\"), axis=1)\n",
    "df['Prob_MF'] = df.apply(lambda x: Prob_intersect(x.all_genders, x.all_percent, \n",
    "                                                               \"male\", \"female\"), axis=1)\n",
    "df['Prob_MM'] = df.apply(lambda x: Prob_intersect(x.all_genders, x.all_percent, \n",
    "                                                               \"male\", \"male\"), axis=1)\n",
    "\n",
    "print('Prob first female cond on last female:', df['Prob_FF'].mean()/df['Last_Author_probF'].mean())\n",
    "print('Prob last female cond on first female:', df['Prob_FF'].mean()/df['First_Author_probF'].mean())\n",
    "print('Prob first female cond on last male:', df['Prob_FM'].mean()/(1 - df['Last_Author_probF']).mean())\n",
    "print('Prob last female cond on first male:', df['Prob_MF'].mean()/(1 - df['First_Author_probF']).mean())\n"
   ]
  },
  {
   "cell_type": "markdown",
   "metadata": {},
   "source": [
    "#### Plot previous results"
   ]
  },
  {
   "cell_type": "code",
   "execution_count": null,
   "metadata": {},
   "outputs": [],
   "source": [
    "### Prob. first author cond. last author\n",
    "\n",
    "sns.set(style=\"ticks\")\n",
    "sns.set_context(\"notebook\", font_scale=1.3, rc={\"lines.linewidth\": 2.5})\n",
    "\n",
    "# Let's plot. Bars: First female when female last author, when  male last author\n",
    "labels = ['Last female', 'Last male']\n",
    "\n",
    "plt.figure(figsize=(6, 3))\n",
    "to_plot = pd.DataFrame()\n",
    "to_plot[\"gender\"] = [0, 1]\n",
    "to_plot[\"p_female\"] = [df['Prob_FF'].mean()/df['Last_Author_probF'].mean(), \\\n",
    "                       df['Prob_FM'].mean()/(1 - df['Last_Author_probF']).mean()]\n",
    "splot = sns.barplot(y=\"gender\", x=\"p_female\", data=to_plot, color=\"rebeccapurple\", dodge=False, orient=\"h\")\n",
    "\n",
    "sns.despine()\n",
    "plt.ylabel(\"\")\n",
    "plt.yticks([0, 1], labels)\n",
    "plt.xlabel(\"Probability first author female\")\n",
    "\n",
    "\n",
    "#ax.grid(True)\n",
    "plt.grid(alpha=0.5)\n",
    "plt.xlim([0, 0.54])\n",
    "\n",
    "plt.tight_layout()\n",
    "# plt.savefig(\"./Figures/conditional_on_last.pdf\", dpi=300, bbox_inches=\"tight\")\n",
    "plt.show()"
   ]
  },
  {
   "cell_type": "code",
   "execution_count": null,
   "metadata": {},
   "outputs": [],
   "source": [
    "#bias\n",
    "to_plot[\"p_female\"][0] - to_plot[\"p_female\"][1]"
   ]
  },
  {
   "cell_type": "code",
   "execution_count": null,
   "metadata": {},
   "outputs": [],
   "source": [
    "### Prob. last author cond. first author\n",
    "\n",
    "sns.set(style=\"ticks\")\n",
    "sns.set_context(\"notebook\", font_scale=1.3, rc={\"lines.linewidth\": 2.5})\n",
    "\n",
    "# Let's plot. Bars: First female when female last author, when  male last author\n",
    "labels = ['First female', 'First male']\n",
    "\n",
    "plt.figure(figsize=(6, 3))\n",
    "to_plot = pd.DataFrame()\n",
    "to_plot[\"gender\"] = [0, 1]\n",
    "to_plot[\"p_female\"] = [df['Prob_FF'].mean()/df['First_Author_probF'].mean(), \\\n",
    "                       df['Prob_MF'].mean()/(1 - df['First_Author_probF']).mean()]\n",
    "splot = sns.barplot(y=\"gender\", x=\"p_female\", data=to_plot, color=\"rebeccapurple\", dodge=False, orient=\"h\")\n",
    "\n",
    "sns.despine()\n",
    "plt.ylabel(\"\")\n",
    "plt.yticks([0, 1], labels)\n",
    "plt.xlabel(\"Probability last author female\")\n",
    "\n",
    "\n",
    "#ax.grid(True)\n",
    "#plt.axvline(x=p_fl, color=\"k\", linestyle=\":\", linewidth=2)\n",
    "plt.grid(alpha=0.5)\n",
    "\n",
    "plt.xlim([0, 0.54])\n",
    "\n",
    "plt.tight_layout()\n",
    "# plt.savefig(\"./Figures/conditional_on_first.pdf\", dpi=300, bbox_inches=\"tight\")\n",
    "plt.show()"
   ]
  },
  {
   "cell_type": "code",
   "execution_count": null,
   "metadata": {},
   "outputs": [],
   "source": [
    "# bias\n",
    "to_plot[\"p_female\"][0] - to_plot[\"p_female\"][1]"
   ]
  },
  {
   "cell_type": "markdown",
   "metadata": {},
   "source": [
    "#### Define function for conditional probabilities for at least one female author (cond. last author)"
   ]
  },
  {
   "cell_type": "code",
   "execution_count": null,
   "metadata": {},
   "outputs": [],
   "source": [
    "def Prob_atLeastintersect(x,y, gender_atleast, gender_other, gender_last):\n",
    "    prod = 1    \n",
    "    for i,elem in enumerate(x):\n",
    "        if (i>0) & (i<(len(x)-1)):\n",
    "            if elem == gender_other:\n",
    "                prod *= float(y[i]) \n",
    "            elif elem == gender_atleast:\n",
    "                prod *= 1 - float(y[i])\n",
    "    \n",
    "    if x[-1] == gender_last:\n",
    "        prod = (1-prod)*float(y[-1])\n",
    "    else:\n",
    "        prod = (1-prod)*(1 - float(y[-1]))\n",
    "    \n",
    "    return prod\n",
    "\n",
    "\n",
    "# Create corresponding columns:\n",
    "\n",
    "df['Prob_1FF'] = df.apply(lambda x: Prob_atLeastintersect(x.all_genders, x.all_percent, 'female',\n",
    "                                                               \"male\", \"female\"), axis=1)\n",
    "df['Prob_1FM'] = df.apply(lambda x: Prob_atLeastintersect(x.all_genders, x.all_percent, 'female',\n",
    "                                                               \"male\", \"male\"), axis=1)\n",
    "\n",
    "df['Prob_1MF'] = df.apply(lambda x: Prob_atLeastintersect(x.all_genders, x.all_percent, 'male',\n",
    "                                                               \"female\", \"female\"), axis=1)\n",
    "df['Prob_1MM'] = df.apply(lambda x: Prob_atLeastintersect(x.all_genders, x.all_percent, 'male',\n",
    "                                                               \"female\", \"male\"), axis=1)\n",
    "\n",
    "print('Prob at least female cond on last female:', df['Prob_1FF'].mean()/df['Last_Author_probF'].mean())\n",
    "print('Prob at least female cond on last male:', df['Prob_1FM'].mean()/(1 - df['Last_Author_probF']).mean())\n",
    "print('Prob at least male cond on last female:', df['Prob_1MF'].mean()/df['Last_Author_probF'].mean())\n",
    "print('Prob at least male cond on last male:', df['Prob_1MM'].mean()/(1 - df['Last_Author_probF']).mean())"
   ]
  },
  {
   "cell_type": "markdown",
   "metadata": {},
   "source": [
    "#### Plot previous results"
   ]
  },
  {
   "cell_type": "code",
   "execution_count": null,
   "metadata": {},
   "outputs": [],
   "source": [
    "### Prob. at least one coauthor cond. last author\n",
    "\n",
    "sns.set(style=\"ticks\")\n",
    "sns.set_context(\"notebook\", font_scale=1.3, rc={\"lines.linewidth\": 2.5})\n",
    "\n",
    "# Let's plot. Bars: First female when female last author, when  male last author\n",
    "labels = ['Last female', 'Last male']\n",
    "\n",
    "plt.figure(figsize=(6, 3))\n",
    "to_plot = pd.DataFrame()\n",
    "to_plot[\"gender\"] = [0, 1]\n",
    "to_plot[\"p_female\"] = [df['Prob_1FF'].mean()/df['Last_Author_probF'].mean(), \\\n",
    "                       df['Prob_1FM'].mean()/(1 - df['Last_Author_probF']).mean()]\n",
    "splot = sns.barplot(y=\"gender\", x=\"p_female\", data=to_plot, color=\"rebeccapurple\", dodge=False, orient=\"h\")\n",
    "\n",
    "sns.despine()\n",
    "plt.ylabel(\"\")\n",
    "plt.yticks([0, 1], labels)\n",
    "plt.xlabel(\"Probability at least one coauthor female\")\n",
    "\n",
    "plt.grid(alpha=0.5)\n",
    "plt.xlim([0, 0.54])\n",
    "\n",
    "plt.tight_layout()\n",
    "plt.savefig(\"./Figures/conditionalAtleastone_on_last.pdf\", dpi=300, bbox_inches=\"tight\")"
   ]
  },
  {
   "cell_type": "code",
   "execution_count": null,
   "metadata": {},
   "outputs": [],
   "source": [
    "# bias\n",
    "to_plot[\"p_female\"][0] - to_plot[\"p_female\"][1]"
   ]
  },
  {
   "cell_type": "markdown",
   "metadata": {},
   "source": [
    "#### Define function for conditional probabilities for at least one female author (cond. last author)"
   ]
  },
  {
   "cell_type": "code",
   "execution_count": null,
   "metadata": {},
   "outputs": [],
   "source": [
    "def Prob_atLeastintersect(x,y, gender_atleast, gender_other, gender_first):\n",
    "    prod = 1    \n",
    "    for i,elem in enumerate(x):\n",
    "        if (i>0) & (i<(len(x)-1)):\n",
    "            if elem == gender_other:\n",
    "                prod *= float(y[i]) \n",
    "            elif elem == gender_atleast:\n",
    "                prod *= 1 - float(y[i])\n",
    "    \n",
    "    if x[0] == gender_first:\n",
    "        prod = (1-prod)*float(y[0])\n",
    "    else:\n",
    "        prod = (1-prod)*(1 - float(y[0]))\n",
    "    \n",
    "    return prod\n",
    "\n",
    "\n",
    "# Create corresponding columns:\n",
    "\n",
    "df['Prob_F1F'] = df.apply(lambda x: Prob_atLeastintersect(x.all_genders, x.all_percent, 'female',\n",
    "                                                               \"male\", \"female\"), axis=1)\n",
    "df['Prob_M1F'] = df.apply(lambda x: Prob_atLeastintersect(x.all_genders, x.all_percent, 'female',\n",
    "                                                               \"male\", \"male\"), axis=1)\n",
    "\n",
    "\n",
    "print('Prob at least female cond on first female:', df['Prob_1FF'].mean()/df['First_Author_probF'].mean())\n",
    "print('Prob at least female cond on first male:', df['Prob_1FM'].mean()/(1 - df['First_Author_probF']).mean())"
   ]
  },
  {
   "cell_type": "markdown",
   "metadata": {},
   "source": [
    "#### Plot previous results"
   ]
  },
  {
   "cell_type": "code",
   "execution_count": null,
   "metadata": {},
   "outputs": [],
   "source": [
    "### Prob. at least one coauthor cond. first author\n",
    "\n",
    "sns.set(style=\"ticks\")\n",
    "sns.set_context(\"notebook\", font_scale=1.3, rc={\"lines.linewidth\": 2.5})\n",
    "\n",
    "# Let's plot. Bars: First female when female last author, when  male last author\n",
    "labels = ['First female', 'First male']\n",
    "\n",
    "plt.figure(figsize=(6, 3))\n",
    "to_plot = pd.DataFrame()\n",
    "to_plot[\"gender\"] = [0, 1]\n",
    "to_plot[\"p_female\"] = [df['Prob_1FF'].mean()/df['First_Author_probF'].mean(), \\\n",
    "                       df['Prob_1FM'].mean()/(1 - df['First_Author_probF']).mean()]\n",
    "splot = sns.barplot(y=\"gender\", x=\"p_female\", data=to_plot, color=\"rebeccapurple\", dodge=False, orient=\"h\")\n",
    "\n",
    "sns.despine()\n",
    "plt.ylabel(\"\")\n",
    "plt.yticks([0, 1], labels)\n",
    "plt.xlabel(\"Probability at least one coauthor female\")\n",
    "\n",
    "plt.grid(alpha=0.5)\n",
    "plt.xlim([0, 0.54])\n",
    "\n",
    "plt.tight_layout()\n",
    "# plt.savefig(\"./Figures/conditionalAtleastone_on_first.pdf\", dpi=300, bbox_inches=\"tight\")"
   ]
  },
  {
   "cell_type": "code",
   "execution_count": null,
   "metadata": {},
   "outputs": [],
   "source": [
    "# bias\n",
    "to_plot[\"p_female\"][0] - to_plot[\"p_female\"][1]"
   ]
  }
 ],
 "metadata": {
  "kernelspec": {
   "display_name": "venv",
   "language": "python",
   "name": "venv"
  },
  "language_info": {
   "codemirror_mode": {
    "name": "ipython",
    "version": 3
   },
   "file_extension": ".py",
   "mimetype": "text/x-python",
   "name": "python",
   "nbconvert_exporter": "python",
   "pygments_lexer": "ipython3"
  }
 },
 "nbformat": 4,
 "nbformat_minor": 4
}
