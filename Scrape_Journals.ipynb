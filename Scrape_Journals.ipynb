{
 "cells": [
  {
   "cell_type": "markdown",
   "metadata": {},
   "source": [
    "## This notebook downloads the pages from the search engines of journals with the information about papers in seismology published between 2010 and 2021 "
   ]
  },
  {
   "cell_type": "code",
   "execution_count": null,
   "metadata": {},
   "outputs": [],
   "source": [
    "# import packages\n",
    "\n",
    "import re\n",
    "\n",
    "from bs4 import BeautifulSoup\n",
    "\n",
    "import selenium\n",
    "from selenium import webdriver\n",
    "\n",
    "import time\n",
    "\n",
    "import codecs\n",
    "\n",
    "import os"
   ]
  },
  {
   "cell_type": "markdown",
   "metadata": {},
   "source": [
    "#### Configure local paths and create directories"
   ]
  },
  {
   "cell_type": "code",
   "execution_count": null,
   "metadata": {},
   "outputs": [],
   "source": [
    "root = ! pwd\n",
    "root = root[0]\n",
    "\n",
    "print(\"using root directory:\", root)\n",
    "\n",
    "CHROME_DRIVER_PATH=root+\"/deps/chromedriver\""
   ]
  },
  {
   "cell_type": "code",
   "execution_count": null,
   "metadata": {},
   "outputs": [],
   "source": [
    "if not os.path.exists(root+\"/pages\"):\n",
    "    os.mkdir(root+\"/pages\") "
   ]
  },
  {
   "cell_type": "markdown",
   "metadata": {},
   "source": [
    "#### Initialize webdriver"
   ]
  },
  {
   "cell_type": "code",
   "execution_count": null,
   "metadata": {},
   "outputs": [],
   "source": [
    "option = webdriver.ChromeOptions()\n",
    "option.add_argument(\"--incognito\")\n",
    "browser = webdriver.Chrome(executable_path=CHROME_DRIVER_PATH, options=option)"
   ]
  },
  {
   "cell_type": "markdown",
   "metadata": {},
   "source": [
    "#### Define years/months/days of interest for collecting data "
   ]
  },
  {
   "cell_type": "code",
   "execution_count": null,
   "metadata": {},
   "outputs": [],
   "source": [
    "# years \n",
    "years = [\n",
    "    \"2010\",\n",
    "    \"2011\",\n",
    "    \"2012\",\n",
    "    \"2013\",\n",
    "    \"2014\",\n",
    "    \"2015\",\n",
    "    \"2016\",\n",
    "    \"2017\",\n",
    "    \"2018\",\n",
    "    \"2019\",\n",
    "    \"2020\",\n",
    "#    \"2021\"\n",
    "    \n",
    "]\n",
    "\n",
    "# months \n",
    "months = [\n",
    "    \"01\",\n",
    "    \"02\",\n",
    "    \"03\",\n",
    "    \"04\",\n",
    "    \"05\",\n",
    "    \"06\",\n",
    "    \"07\",\n",
    "    \"08\",\n",
    "    \"09\",\n",
    "    \"10\",\n",
    "    \"11\",\n",
    "    \"12\"\n",
    "]\n",
    "\n",
    "# number of days in month \n",
    "days_in_month = [\n",
    "    \"31\",\n",
    "    \"28\",\n",
    "    \"31\",\n",
    "    \"30\",\n",
    "    \"31\",\n",
    "    \"30\",\n",
    "    \"31\",\n",
    "    \"31\",\n",
    "    \"30\",\n",
    "    \"31\",\n",
    "    \"30\",\n",
    "    \"31\"\n",
    "]"
   ]
  },
  {
   "cell_type": "markdown",
   "metadata": {},
   "source": [
    "### AGU Journals: GRL, JGR: Solid Earth, G3"
   ]
  },
  {
   "cell_type": "markdown",
   "metadata": {},
   "source": [
    "#### Define journals to scrape and url template for search engine"
   ]
  },
  {
   "cell_type": "code",
   "execution_count": null,
   "metadata": {},
   "outputs": [],
   "source": [
    "# template (RESTRICT TO PAPERS WITH TERMS IN ABSTRACT: seism, earthquake)\n",
    "agu_search_template = \"https://agupubs.onlinelibrary.wiley.com/action/doSearch?field1=Abstract&text1=seism+OR+earthquake&field2=AllField&text2=&field3=AllField&text3=&publication[]={publication}&Ppub=&AfterMonth={month}&AfterYear={year}&BeforeMonth={month}&BeforeYear={year}&startPage={start_page}&sortBy=Earliest&\"\n",
    "\n",
    "#[journal name, template]\n",
    "journal_templates = [\n",
    "    [\"GRL\",\"19448007\"],\n",
    "    [\"JGRSolidEarth\",\"21699356\"],\n",
    "    [\"G3\",\"15252027\"],\n",
    "]\n",
    "\n",
    "# Be careful: page number starts from 0 for this journal (last checked Aug. 2023)"
   ]
  },
  {
   "cell_type": "markdown",
   "metadata": {},
   "source": [
    "#### Define scrape function adapted to journal and run a test"
   ]
  },
  {
   "cell_type": "code",
   "execution_count": null,
   "metadata": {},
   "outputs": [],
   "source": [
    "def fetch_page(browser, url):\n",
    "    browser.get(url)\n",
    "    if browser.current_url != url:\n",
    "        print(\"unexpected page url.\\n current: {} \\n expected: {}\".format(browser.current_url,url))\n",
    "        return \"\", \"\"\n",
    "    \n",
    "    # create a fingerprint for this page\n",
    "    titles = []\n",
    "    elements = browser.find_elements_by_class_name(\"publication_title\")\n",
    "    for e in elements:\n",
    "        titles.append(e.text)\n",
    "    fingerprint = \" \".join(titles)\n",
    "\n",
    "    return browser.page_source, fingerprint\n",
    "\n",
    "# test\n",
    "\n",
    "url = agu_search_template.format(publication=\"15252027\", year=\"2015\", month=\"05\", start_page=0)\n",
    "html, fingerprint = fetch_page(browser, url)\n",
    "\n",
    "with codecs.open(\"test/test_page.html\", \"w\", \"utf8\") as outfile:\n",
    "    outfile.write(html)"
   ]
  },
  {
   "cell_type": "markdown",
   "metadata": {},
   "source": [
    "#### Collect pages with publication info"
   ]
  },
  {
   "cell_type": "code",
   "execution_count": null,
   "metadata": {},
   "outputs": [],
   "source": [
    "previous_fingerprint = \"\"\n",
    "\n",
    "\n",
    "for journal_name, journal_id in journal_templates:\n",
    "    print(\"scraping journal:\", journal_name)\n",
    "    for year in years:\n",
    "        print(\"scraping year:\", year)\n",
    "        for month in months:\n",
    "            print(\"scraping month:\", month)\n",
    "            for page in range(100):\n",
    "                url = agu_search_template.format(publication=journal_id, year=year, month=month, start_page=page)\n",
    "                html, fingerprint = fetch_page(browser, url)\n",
    "                if len(html) == 0:\n",
    "                    print(\"nothing to save for\", url)\n",
    "                    continue\n",
    "                if fingerprint == previous_fingerprint:\n",
    "                    print(\"done on page\", page)\n",
    "                    # page already seen, move to the next month\n",
    "                    break\n",
    "                if len(fingerprint) == 0:\n",
    "                    # page already seen, move to the next month\n",
    "                    print(\"done on page\", page)\n",
    "                    break\n",
    "                previous_fingerprint = fingerprint\n",
    "\n",
    "                filename = \"{name}_{year}_{month}_{page}.html\".format(name=journal_name, year=year, month=month, page=page)\n",
    "                with codecs.open(\"pages/\"+filename, \"w\", \"utf8\") as outfile:\n",
    "                    outfile.write(html)\n",
    "\n",
    "                time.sleep(2)\n",
    "            "
   ]
  },
  {
   "cell_type": "markdown",
   "metadata": {},
   "source": [
    "### Geophysical Journal International "
   ]
  },
  {
   "cell_type": "markdown",
   "metadata": {},
   "source": [
    "#### Define url template for search engine"
   ]
  },
  {
   "cell_type": "code",
   "execution_count": null,
   "metadata": {},
   "outputs": [],
   "source": [
    "#url template  (last checked Aug. 2023)\n",
    "\n",
    "#gji_template = \"https://academic.oup.com/gji/search-results?sort=Date+%e2%80%93+Newest+First&f_TocHeadingTitle=Seismology&f_ArticleTypeDisplayName=Review+ArticleANDResearch+Article&fl_SiteID=5282&rg_ArticleDate={month}/01/{year}%20TO%20{month}/{last_day}/{year}&dateFilterType=range&noDateTypes=true&qb=%7b%22q%22%3a%22%22%7d&page={start_page}\"\n",
    "\n",
    "gji_template = \"https://ui.adsabs.harvard.edu/search/q=%20abs%3A(seism%20OR%20earthquake)%20year%3A{year}%20bibstem%3AGeoJI&sort=date%20desc%2C%20bibcode%20desc&p_={page}\""
   ]
  },
  {
   "cell_type": "markdown",
   "metadata": {},
   "source": [
    "#### Define scrape function adapted to journal and run a test"
   ]
  },
  {
   "cell_type": "code",
   "execution_count": null,
   "metadata": {},
   "outputs": [],
   "source": [
    "def fetch_gji_page(browser, url):\n",
    "    browser.get(url)\n",
    "    if browser.current_url != url:\n",
    "        print(\"unexpected page url.\\n current: {} \\n expected: {}\".format(browser.current_url,url))\n",
    "        return \"\", \"\"\n",
    "    time.sleep(2)\n",
    "    # create a fingerprint for this page\n",
    "    titles = []\n",
    "    elements = browser.find_elements_by_class_name(\"s-results-title\")\n",
    "    for e in elements:\n",
    "        titles.append(e.text)\n",
    "    fingerprint = \" \".join(titles)\n",
    "\n",
    "    return browser.page_source, fingerprint\n",
    "\n",
    "# run test\n",
    "\n",
    "url = gji_template.format(year=\"2013\", page=1)\n",
    "html, fingerprint = fetch_gji_page(browser, url)\n",
    "\n",
    "with codecs.open(\"test/test_gji_page.html\", \"w\", \"utf8\") as outfile:\n",
    "    outfile.write(html)\n",
    "    \n"
   ]
  },
  {
   "cell_type": "markdown",
   "metadata": {},
   "source": [
    "#### Collect pages with publication info"
   ]
  },
  {
   "cell_type": "code",
   "execution_count": null,
   "metadata": {},
   "outputs": [],
   "source": [
    "previous_fingerprint = \"\"\n",
    "\n",
    "for year in years:\n",
    "    print(\"scraping year:\", year)\n",
    "    for page in range(151):\n",
    "        print(\"page:\", page)\n",
    "        url = gji_template.format(year=year, page=page)\n",
    "        html, fingerprint = fetch_gji_page(browser, url)\n",
    "\n",
    "        if len(html) == 0:\n",
    "            print(\"nothing to save for\", url)\n",
    "            continue\n",
    "        if fingerprint == previous_fingerprint:\n",
    "            # page already seen, move to the next month\n",
    "            print(\"done on page\", page)\n",
    "            break\n",
    "        if len(fingerprint) == 0:\n",
    "            print(\"no articles found\")\n",
    "            break\n",
    "        \n",
    "        previous_fingerprint = fingerprint\n",
    "        \n",
    "        filename = \"GJI_{year}_{month}_{page}.html\".format(year=year, month=\"00\", page=page)\n",
    "        with codecs.open(\"pages/\"+filename, \"w\", \"utf8\") as outfile:\n",
    "            outfile.write(html)\n",
    "\n",
    "        time.sleep(2)\n",
    "                "
   ]
  },
  {
   "cell_type": "markdown",
   "metadata": {},
   "source": [
    "### GEOPHYSICS"
   ]
  },
  {
   "cell_type": "markdown",
   "metadata": {},
   "source": [
    "#### Define url template for search engine"
   ]
  },
  {
   "cell_type": "code",
   "execution_count": null,
   "metadata": {},
   "outputs": [],
   "source": [
    "# template  (last checked Aug. 2023)\n",
    "\n",
    "geophysics_template = \"https://library.seg.org/action/doSearch?field1=Abstract&text1=seism*+OR+earthquake&publication=&publication%5B%5D=gpysa7&Ppub=&AfterMonth={month}&AfterYear={year}&BeforeMonth={month}&BeforeYear={year}&startPage={start_page}&sortBy=Earliest\"\n",
    "\n",
    "# Be careful: page number starts from 0 for this journal"
   ]
  },
  {
   "cell_type": "markdown",
   "metadata": {},
   "source": [
    "#### Define scrape function adapted to journal and run a test"
   ]
  },
  {
   "cell_type": "code",
   "execution_count": null,
   "metadata": {},
   "outputs": [],
   "source": [
    "def fetch_geophysics_page(browser, url):\n",
    "    browser.get(url)\n",
    "    if browser.current_url != url:\n",
    "        print(\"unexpected page url.\\n current: {} \\n expected: {}\".format(browser.current_url,url))\n",
    "        return \"\", \"\"\n",
    "    \n",
    "    # create a fingerprint for this page\n",
    "    titles = []\n",
    "    elements = browser.find_elements_by_class_name(\"issue-item__title\")\n",
    "    for e in elements:\n",
    "        titles.append(e.text)\n",
    "    fingerprint = \" \".join(titles)\n",
    "\n",
    "    return browser.page_source, fingerprint\n",
    "\n",
    "# run test\n",
    "\n",
    "url = geophysics_template.format(year=\"2013\", month=\"01\", start_page=0)\n",
    "html, fingerprint = fetch_geophysics_page(browser, url)\n",
    "\n",
    "with codecs.open(\"test/test_geophysics_page.html\", \"w\", \"utf8\") as outfile:\n",
    "    outfile.write(html)"
   ]
  },
  {
   "cell_type": "markdown",
   "metadata": {},
   "source": [
    "#### Collect pages with publication info"
   ]
  },
  {
   "cell_type": "code",
   "execution_count": null,
   "metadata": {},
   "outputs": [],
   "source": [
    "previous_fingerprint = \"\"\n",
    "\n",
    "for year in years:\n",
    "    print(\"scraping year:\", year)\n",
    "    for i, month in enumerate(months):\n",
    "        print(\"scraping month:\", month)\n",
    "        for page in range(100):\n",
    "            url = geophysics_template.format(\n",
    "                year=year,\n",
    "                month=month,\n",
    "                start_page=page)\n",
    "            html, fingerprint = fetch_geophysics_page(browser, url)\n",
    "            if len(html) == 0:\n",
    "                print(\"nothing to save for\", url)\n",
    "                continue\n",
    "            if fingerprint == previous_fingerprint:\n",
    "                # page already seen, move to the next month\n",
    "                print(\"done on page\", page)\n",
    "                break\n",
    "            if len(fingerprint) == 0:\n",
    "                # page already seen, move to the next month\n",
    "                print(\"done on page\", page)\n",
    "                break\n",
    "            previous_fingerprint = fingerprint\n",
    "\n",
    "            filename = \"GEOPHYSICS_{year}_{month}_{page}.html\".format(year=year, month=month, page=page)\n",
    "            with codecs.open(\"pages/\"+filename, \"w\", \"utf8\") as outfile:\n",
    "                outfile.write(html)\n",
    "\n",
    "            time.sleep(2)\n",
    "                "
   ]
  },
  {
   "cell_type": "markdown",
   "metadata": {},
   "source": [
    "### GeoScienceWorld journal: BSSA and SRL"
   ]
  },
  {
   "cell_type": "markdown",
   "metadata": {},
   "source": [
    "#### Define url template for search engine and journals"
   ]
  },
  {
   "cell_type": "code",
   "execution_count": null,
   "metadata": {},
   "outputs": [],
   "source": [
    "# url template (last checked Aug. 2023)\n",
    "gsw_template = \"https://pubs.geoscienceworld.org/search-results?page={page_number}&f_JournalDisplayName={journal_name}&fl_ContentType=Journal+Article+OR+Journal+OR+Book+OR+Book+Chapter+OR+GeoRef+Record&fl_JournalID={publication}&rg_PublicationDate={month}%2f{day}%2f{year}+TO+{month}%2f{last_day}%2f{year}&restypeid=3&f_ArticleTypeDisplayName=Research+Article\" \n",
    "\n",
    "gsw_journal_values = [\n",
    "    [\"Bulletin+of+the+Seismological+Society+of+America\",\"66\"],\n",
    "    [\"Seismological+Research+Letters\",\"65\"]\n",
    "]"
   ]
  },
  {
   "cell_type": "markdown",
   "metadata": {},
   "source": [
    "#### Define scrape function adapted to journal and run a test"
   ]
  },
  {
   "cell_type": "code",
   "execution_count": null,
   "metadata": {},
   "outputs": [],
   "source": [
    "def fetch_gsw_page(browser, url):\n",
    "    browser.get(url)\n",
    "    if browser.current_url != url:\n",
    "        print(\"unexpected page url.\\n current: {} \\n expected: {}\".format(browser.current_url,url))\n",
    "        return \"\", \"\"\n",
    "    \n",
    "    # create a fingerprint for this page\n",
    "    titles = []\n",
    "    elements = browser.find_elements_by_class_name(\"al-title\")\n",
    "    for e in elements:\n",
    "        titles.append(e.text)\n",
    "    fingerprint = \" \".join(titles)\n",
    "\n",
    "    return browser.page_source, fingerprint\n",
    "\n",
    "# run test\n",
    "\n",
    "url = gsw_template.format(\n",
    "                    journal_name=\"Seismological+Research+Letters\",\n",
    "                    publication=\"65\",\n",
    "                    year=\"2016\",\n",
    "                    month=\"03\",\n",
    "                    day=\"01\",\n",
    "                    last_day=\"31\",\n",
    "                    page_number=1)\n",
    "print(url)\n",
    "html, fingerprint = fetch_gsw_page(browser, url)\n",
    "\n",
    "with codecs.open(\"test/test_gsw_page.html\", \"w\", \"utf8\") as outfile:\n",
    "    outfile.write(html)"
   ]
  },
  {
   "cell_type": "markdown",
   "metadata": {},
   "source": [
    "#### Collect pages with publication info"
   ]
  },
  {
   "cell_type": "code",
   "execution_count": null,
   "metadata": {},
   "outputs": [],
   "source": [
    "previous_fingerprint = \"\"\n",
    "\n",
    "for journal_name, journal_id in gsw_journal_values:\n",
    "    print(\"scraping journal:\", journal_name)\n",
    "    for year in years:\n",
    "        print(\"scraping year:\", year)\n",
    "        for i, month in enumerate(months):\n",
    "            print(\"scraping month:\", month)\n",
    "            last_day = days_in_month[i]\n",
    "            for page in range(1,101):\n",
    "                url = gsw_template.format(\n",
    "                    journal_name=journal_name,\n",
    "                    publication=journal_id,\n",
    "                    year=year,\n",
    "                    month=month,\n",
    "                    day=\"01\",\n",
    "                    last_day=last_day,\n",
    "                    page_number=page)\n",
    "                html, fingerprint = fetch_gsw_page(browser, url)\n",
    "                if len(html) == 0:\n",
    "                    print(\"nothing to save for\", url)\n",
    "                    continue\n",
    "                if fingerprint == previous_fingerprint:\n",
    "                    # page already seen, move to the next month\n",
    "                    print(\"done on page\", page)\n",
    "                    break\n",
    "                if len(fingerprint) == 0:\n",
    "                    # page already seen, move to the next month\n",
    "                    print(\"done on page\", page)\n",
    "                    break\n",
    "                previous_fingerprint = fingerprint\n",
    "\n",
    "                filename = \"{name}_{year}_{month}_{page}.html\".format(name=journal_name, year=year, month=month, page=page)\n",
    "                with codecs.open(\"pages/\"+filename, \"w\", \"utf8\") as outfile:\n",
    "                    outfile.write(html)\n",
    "\n",
    "                time.sleep(20)\n",
    "                "
   ]
  },
  {
   "cell_type": "markdown",
   "metadata": {},
   "source": [
    "### Nature geoscience"
   ]
  },
  {
   "cell_type": "markdown",
   "metadata": {},
   "source": [
    "#### Define url template and scrape function adapted to journal and run a test"
   ]
  },
  {
   "cell_type": "code",
   "execution_count": null,
   "metadata": {},
   "outputs": [],
   "source": [
    "# url template  (last checked Aug. 2023)\n",
    "\n",
    "ngs_template = \"https://www.nature.com/search?article_type=research%2Creviews&date_range={year}-{year}&journal=ngeo&subject=seismology&order=relevance&page={page}\" \n",
    "\n",
    "\n",
    "# scrape function\n",
    "\n",
    "def fetch_ngs_page(browser, url):\n",
    "    browser.get(url)\n",
    "    if browser.current_url != url:\n",
    "        print(\"unexpected page url.\\n current: {} \\n expected: {}\".format(browser.current_url,url))\n",
    "        return \"\", \"\"\n",
    "    \n",
    "    # create a fingerprint for this page\n",
    "    titles = []\n",
    "    elements = browser.find_elements_by_class_name(\"h3\")\n",
    "    for e in elements:\n",
    "        titles.append(e.text)\n",
    "    fingerprint = \" \".join(titles)\n",
    "\n",
    "    return browser.page_source, fingerprint\n",
    "\n",
    "url = ngs_template.format(year=\"2015\", page=1)\n",
    "html, fingerprint = fetch_ngs_page(browser, url)\n",
    "\n",
    "with codecs.open(\"test/test_ngs_page.html\", \"w\", \"utf8\") as outfile:\n",
    "    outfile.write(html)"
   ]
  },
  {
   "cell_type": "markdown",
   "metadata": {},
   "source": [
    "#### Collect pages with publication info"
   ]
  },
  {
   "cell_type": "code",
   "execution_count": null,
   "metadata": {},
   "outputs": [],
   "source": [
    "previous_fingerprint = \"\"\n",
    "\n",
    "for year in years:\n",
    "    print(\"scraping year:\", year)\n",
    "    for page in range(1,101):\n",
    "        url = ngs_template.format(year=year, page=page)\n",
    "        html, fingerprint = fetch_ngs_page(browser, url)\n",
    "        if len(html) == 0:\n",
    "            print(\"nothing to save for\", url)\n",
    "            continue\n",
    "        if fingerprint == previous_fingerprint:\n",
    "            # page already seen, move to the next month\n",
    "            print(\"done on page\", page)\n",
    "            break\n",
    "        if len(fingerprint) == 0:\n",
    "            # page already seen, move to the next month\n",
    "            print(\"done on page\", page)\n",
    "            break\n",
    "        previous_fingerprint = fingerprint\n",
    "\n",
    "        filename = \"{name}_{year}_{month}_{page}.html\".format(name=\"NatureGeoscience\", year=year, month=\"0\", page=page)\n",
    "        with codecs.open(\"pages/\"+filename, \"w\", \"utf8\") as outfile:\n",
    "            outfile.write(html)\n",
    "\n",
    "        time.sleep(2)\n"
   ]
  },
  {
   "cell_type": "markdown",
   "metadata": {},
   "source": [
    "### Nature"
   ]
  },
  {
   "cell_type": "markdown",
   "metadata": {},
   "source": [
    "#### Define url template and scrape function adapted to journal and run a test"
   ]
  },
  {
   "cell_type": "code",
   "execution_count": null,
   "metadata": {},
   "outputs": [],
   "source": [
    "# url template  (last checked Aug. 2023)\n",
    "\n",
    "nature_template = \"https://www.nature.com/search?article_type=research%2Creviews&date_range={year}-{year}&journal=nature&subject=seismology&order=relevance&page={page}\" \n",
    "\n",
    "\n",
    "# scrape function\n",
    "\n",
    "def fetch_nature_page(browser, url):\n",
    "    browser.get(url)\n",
    "    if browser.current_url != url:\n",
    "        print(\"unexpected page url.\\n current: {} \\n expected: {}\".format(browser.current_url,url))\n",
    "        return \"\", \"\"\n",
    "    \n",
    "    # create a fingerprint for this page\n",
    "    titles = []\n",
    "    elements = browser.find_elements_by_class_name(\"h3\")\n",
    "    for e in elements:\n",
    "        titles.append(e.text)\n",
    "    fingerprint = \" \".join(titles)\n",
    "\n",
    "    return browser.page_source, fingerprint\n",
    "\n",
    "# run test\n",
    "\n",
    "url = nature_template.format(year=\"2015\", page=1)\n",
    "html, fingerprint = fetch_nature_page(browser, url)\n",
    "\n",
    "with codecs.open(\"test/test_nature_page.html\", \"w\", \"utf8\") as outfile:\n",
    "    outfile.write(html)"
   ]
  },
  {
   "cell_type": "markdown",
   "metadata": {},
   "source": [
    "#### Collect pages with publication info"
   ]
  },
  {
   "cell_type": "code",
   "execution_count": null,
   "metadata": {},
   "outputs": [],
   "source": [
    "previous_fingerprint = \"\"\n",
    "\n",
    "for year in years:\n",
    "    print(\"scraping year:\", year)\n",
    "    for page in range(1,101):\n",
    "        url = nature_template.format(year=year, page=page)\n",
    "        html, fingerprint = fetch_nature_page(browser, url)\n",
    "        if len(html) == 0:\n",
    "            print(\"nothing to save for\", url)\n",
    "            continue\n",
    "        if fingerprint == previous_fingerprint:\n",
    "            # page already seen, move to the next month\n",
    "            print(\"done on page\", page)\n",
    "            break\n",
    "        if len(fingerprint) == 0:\n",
    "            # page already seen, move to the next month\n",
    "            print(\"done on page\", page)\n",
    "            break\n",
    "        previous_fingerprint = fingerprint\n",
    "\n",
    "        filename = \"{name}_{year}_{month}_{page}.html\".format(name=\"Nature\", year=year, month=\"0\", page=page)\n",
    "        with codecs.open(\"pages/\"+filename, \"w\", \"utf8\") as outfile:\n",
    "            outfile.write(html)\n",
    "\n",
    "        time.sleep(2)\n"
   ]
  },
  {
   "cell_type": "markdown",
   "metadata": {},
   "source": [
    "### Solid Earth"
   ]
  },
  {
   "cell_type": "markdown",
   "metadata": {},
   "source": [
    "#### Define url template and scrape function adapted to journal and run a test"
   ]
  },
  {
   "cell_type": "code",
   "execution_count": null,
   "metadata": {},
   "outputs": [],
   "source": [
    "# url template  (last checked Aug. 2023)\n",
    "\n",
    "se_template = \"https://editor.copernicus.org/search.php?abstract=earthquake+seism&startYear={year}&endYear={year}&paperVersion=final&journal=431&page={page}\"\n",
    "\n",
    "\n",
    "# scrape function\n",
    "\n",
    "def fetch_se_page(browser, url):\n",
    "    browser.get(url)\n",
    "    if browser.current_url != url:\n",
    "        print(\"unexpected page url.\\n current: {} \\n expected: {}\".format(browser.current_url,url))\n",
    "        return \"\", \"\"\n",
    "    \n",
    "    # create a fingerprint for this page\n",
    "    titles = []\n",
    "    elements = browser.find_elements_by_class_name(\"article-title\")\n",
    "    for e in elements:\n",
    "        titles.append(e.text)\n",
    "    fingerprint = \" \".join(titles)\n",
    "\n",
    "    return browser.page_source, fingerprint\n",
    "\n",
    "# run test\n",
    "\n",
    "url = se_template.format(year=\"2015\", page=2)\n",
    "html, fingerprint = fetch_se_page(browser, url)\n",
    "\n",
    "with codecs.open(\"test/test_se_page.html\", \"w\", \"utf8\") as outfile:\n",
    "    outfile.write(html)"
   ]
  },
  {
   "cell_type": "markdown",
   "metadata": {},
   "source": [
    "#### Collect pages with publication info"
   ]
  },
  {
   "cell_type": "code",
   "execution_count": null,
   "metadata": {},
   "outputs": [],
   "source": [
    "previous_fingerprint = \"\"\n",
    "\n",
    "for year in years:\n",
    "    print(\"scraping year:\", year)\n",
    "    for page in range(1,101):\n",
    "        url = se_template.format(year=year, page=page)\n",
    "        html, fingerprint = fetch_se_page(browser, url)\n",
    "        if len(html) == 0:\n",
    "            print(\"nothing to save for\", url)\n",
    "            continue\n",
    "        if fingerprint == previous_fingerprint:\n",
    "            # page already seen, move to the next month\n",
    "            print(\"done on page\", page)\n",
    "            break\n",
    "        if len(fingerprint) == 0:\n",
    "            # page already seen, move to the next month\n",
    "            print(\"done on page\", page)\n",
    "            break\n",
    "        previous_fingerprint = fingerprint\n",
    "\n",
    "        filename = \"{name}_{year}_{month}_{page}.html\".format(name=\"SolidEarth\", year=year, month=\"0\", page=page)\n",
    "        with codecs.open(\"pages/\"+filename, \"w\", \"utf8\") as outfile:\n",
    "            outfile.write(html)\n",
    "\n",
    "        time.sleep(2)\n"
   ]
  },
  {
   "cell_type": "markdown",
   "metadata": {},
   "source": [
    "### Science AAAS"
   ]
  },
  {
   "cell_type": "markdown",
   "metadata": {},
   "source": [
    "#### Define url template "
   ]
  },
  {
   "cell_type": "code",
   "execution_count": null,
   "metadata": {},
   "outputs": [],
   "source": [
    "## This was the one used for our publication\n",
    "\n",
    "science_template = \"http://classic.sciencemag.org/search?journalcode=sci&volume=&firstpage=&submit=yes&doi=&submit=yes&fulltext=&andorexactfulltext=or&titleabstract=seism%2C+earthquake&andorexacttitleabs=or&title=&andorexacttitle=and&author1=&author2=&fmonth=Jan&fyear={year}&tmonth=Dec&tyear={year}&hits=125&sortspec=date&submit=yes&resourcetype=HWCIT&tocsectionid=Original+Research&submit=yes&submit.x=46&submit.y=8\"\n",
    "\n",
    "# However, it seems to have changed. Please, try the following (last checked Aug. 2023):\n",
    "\n",
    "#science_template = \"https://www.science.org/action/doSearch?field1=AllField&text1=seism+OR+earthquake&ConceptID%5B%5D=505154&ConceptID=&publication%5B%5D=science&publication=&Ppub=&AfterMonth=1&AfterYear={year}&BeforeMonth=12&BeforeYear={year}&startPage=0&adobe_mc=MCMID%3D50468266442497235571139804379786180598%7CMCORGID%3D242B6472541199F70A4C98A6%2540AdobeOrg%7CTS%3D1693394584&adobe_mc=MCMID%3D50468266442497235571139804379786180598%7CMCORGID%3D242B6472541199F70A4C98A6%2540AdobeOrg%7CTS%3D1693394738\"\n",
    "\n"
   ]
  },
  {
   "cell_type": "markdown",
   "metadata": {},
   "source": [
    "#### Define scrape function adapted to journal and run a test"
   ]
  },
  {
   "cell_type": "code",
   "execution_count": null,
   "metadata": {},
   "outputs": [],
   "source": [
    "def fetch_science_page(browser, url):\n",
    "    browser.get(url)\n",
    "    if browser.current_url != url:\n",
    "        print(\"unexpected page url.\\n current: {} \\n expected: {}\".format(browser.current_url,url))\n",
    "        return \"\", \"\"\n",
    "    time.sleep(10)\n",
    "    # create a fingerprint for this page\n",
    "    titles = []\n",
    "    elements = browser.find_elements_by_class_name(\"cit-first-element\")\n",
    "    for e in elements:\n",
    "        titles.append(e.text)\n",
    "    fingerprint = \" \".join(titles)\n",
    "\n",
    "    return browser.page_source, fingerprint\n",
    "\n",
    "# run test\n",
    "\n",
    "url = science_template.format(year=\"2018\")\n",
    "html, fingerprint = fetch_science_page(browser, url)\n",
    "\n",
    "with codecs.open(\"test/test_science_page.html\", \"w\", \"utf8\") as outfile:\n",
    "    outfile.write(html)"
   ]
  },
  {
   "cell_type": "markdown",
   "metadata": {},
   "source": [
    "#### Collect pages with publication info"
   ]
  },
  {
   "cell_type": "code",
   "execution_count": null,
   "metadata": {},
   "outputs": [],
   "source": [
    "for year in years:\n",
    "    print(\"scraping year:\", year)\n",
    "    url = science_template.format(year=year)\n",
    "    html, fingerprint = fetch_science_page(browser, url)\n",
    "    if len(html) == 0:\n",
    "        print(\"nothing to save for\", url)\n",
    "        continue\n",
    "    if len(fingerprint) == 0:\n",
    "        print(\"no articles found\")\n",
    "        break\n",
    "    filename = \"{name}_{year}_{month}_{page}.html\".format(name=\"Science\", year=year, month=\"0\", page=\"1\")\n",
    "    with codecs.open(\"pages/\"+filename, \"w\", \"utf8\") as outfile:\n",
    "        outfile.write(html)\n",
    "\n",
    "    time.sleep(2)"
   ]
  },
  {
   "cell_type": "markdown",
   "metadata": {},
   "source": [
    "### Science Direct"
   ]
  },
  {
   "cell_type": "markdown",
   "metadata": {},
   "source": [
    "#### Define url template and scrape function adapted to journal and run a test"
   ]
  },
  {
   "cell_type": "code",
   "execution_count": null,
   "metadata": {},
   "outputs": [],
   "source": [
    "# url template  (last checked Aug. 2023)\n",
    "\n",
    "science_direct_template = 'https://ui.adsabs.harvard.edu/search/q=bibstem%3A%22{journal}%22%20year%3A{year}%20%20abs%3A(seism%20OR%20earthquake)&sort=date%20desc%2C%20bibcode%20desc&p_={page}'\n",
    "#page starts from 0\n",
    "\n",
    "sd_journal_values = [\"E%26PSL\",\"Tectp\",\"PEPI\"] # journals of interest\n",
    "\n",
    "\n",
    "# scrape function\n",
    "\n",
    "def fetch_sd_page(browser, url):\n",
    "    browser.get(url)\n",
    "    if browser.current_url != url:\n",
    "        print(\"unexpected page url.\\n current: {} \\n expected: {}\".format(browser.current_url,url))\n",
    "        return \"\", \"\"\n",
    "    time.sleep(4)\n",
    "    # create a fingerprint for this page\n",
    "    titles = []\n",
    "    elements = browser.find_elements_by_class_name(\"s-results-title\")\n",
    "    for e in elements:\n",
    "        titles.append(e.text)\n",
    "    fingerprint = \" \".join(titles)\n",
    "\n",
    "    return browser.page_source, fingerprint\n",
    "\n",
    "# run test\n",
    "\n",
    "journal = sd_journal_values[0]\n",
    "url = science_direct_template.format(journal=journal, year=\"2011\", page=0)\n",
    "html, fingerprint = fetch_sd_page(browser, url)\n",
    "\n",
    "with codecs.open(\"test/test_sd_page.html\", \"w\", \"utf8\") as outfile:\n",
    "    outfile.write(html)"
   ]
  },
  {
   "cell_type": "markdown",
   "metadata": {},
   "source": [
    "#### Collect pages with publication info"
   ]
  },
  {
   "cell_type": "code",
   "execution_count": null,
   "metadata": {},
   "outputs": [],
   "source": [
    "previous_fingerprint = \"\"\n",
    "\n",
    "for journal in sd_journal_values:\n",
    "    print(\"scraping journal:\", journal)\n",
    "    for year in years:\n",
    "        print(\"scraping year:\", year)\n",
    "        for page in range(101):\n",
    "            print(\"page:\", page)\n",
    "            url = science_direct_template.format(journal=journal, year=year, page=page)\n",
    "            html, fingerprint = fetch_sd_page(browser, url)\n",
    "            if len(html) == 0:\n",
    "                print(\"nothing to save for\", url)\n",
    "                continue\n",
    "            if fingerprint == previous_fingerprint:\n",
    "                # page already seen, move to the next month\n",
    "                print(\"done on page\", page)\n",
    "                break\n",
    "            if len(fingerprint) == 0:\n",
    "                # page already seen, move to the next month\n",
    "                print(\"done on page\", page)\n",
    "                break\n",
    "            \n",
    "            previous_fingerprint = fingerprint\n",
    "\n",
    "            filename = \"{name}_{year}_{month}_{page}.html\".format(name=journal, year=year, month=\"0\", page=page)\n",
    "            with codecs.open(\"pages/\"+filename, \"w\", \"utf8\") as outfile:\n",
    "                outfile.write(html)\n",
    "\n",
    "            time.sleep(2)"
   ]
  }
 ],
 "metadata": {
  "kernelspec": {
   "display_name": "venv",
   "language": "python",
   "name": "venv"
  },
  "language_info": {
   "codemirror_mode": {
    "name": "ipython",
    "version": 3
   },
   "file_extension": ".py",
   "mimetype": "text/x-python",
   "name": "python",
   "nbconvert_exporter": "python",
   "pygments_lexer": "ipython3"
  }
 },
 "nbformat": 4,
 "nbformat_minor": 2
}
